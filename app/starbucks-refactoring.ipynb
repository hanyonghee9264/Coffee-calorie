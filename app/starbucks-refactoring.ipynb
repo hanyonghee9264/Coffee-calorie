{
 "cells": [
  {
   "cell_type": "code",
   "execution_count": 1,
   "metadata": {},
   "outputs": [],
   "source": [
    "# parser 필요한 모듈 (selenium, bs4)\n",
    "import os\n",
    "from selenium import webdriver\n",
    "from bs4 import BeautifulSoup\n",
    "\n",
    "from config.settings.base import MEDIA_ROOT\n",
    "# url 이미지 다운\n",
    "import urllib.request\n",
    "\n",
    "driver = webdriver.Chrome('/Users/han-yonghee/projects/coffeecalorie/.tool/chromedriver')\n",
    "\n",
    "# 스타벅스 음료 페이지 [전체 상품보기]\n",
    "driver.get('http://www.istarbucks.co.kr/menu/drink_list.do')\n",
    "html = driver.page_source\n",
    "soup = BeautifulSoup(html, 'lxml')\n"
   ]
  },
  {
   "cell_type": "code",
   "execution_count": 2,
   "metadata": {},
   "outputs": [
    {
     "name": "stdout",
     "output_type": "stream",
     "text": [
      "10\n"
     ]
    }
   ],
   "source": [
    "dt_category = soup.select('dl.product_view_tab > dd > div.product_list > dl > dt > a')\n",
    "dd_content = soup.select('dl.product_view_tab > dd > div.product_list > dl > dd')\n",
    "print(len(dd_content))\n"
   ]
  },
  {
   "cell_type": "code",
   "execution_count": 3,
   "metadata": {},
   "outputs": [],
   "source": [
    "# for a, b in zip(dt_category, dd_content):\n",
    "#     # 카테고리 타이틀 \n",
    "#     category_title = a.get_text(strip=True)\n",
    "# #     print(category_title)\n",
    "# #     print('====끝====')\n",
    "#     # 커피 이름 & 이미지 URL & 커피 디테일 URL\n",
    "#     coffee_name_image_list = b.select('ul > li.menuDataSet')\n",
    "#     for name_image in coffee_name_image_list:\n",
    "#         coffee_name = name_image.select_one('dl > dd').get_text()\n",
    "# #         print(coffee_name)\n",
    "#         coffee_image_url = name_image.select_one('dl > dt > a > img')\n",
    "#         coffee_image = coffee_image_url.get('src')\n",
    "# #         print(coffee_image)\n",
    "# #         urllib.request.urlretrieve(coffee_image, f'{coffee_name}.jpg')\n",
    "#         coffee_url_total = name_image.select_one('dl > dt > a')\n",
    "#         coffee_url = coffee_url_total.get('prod')\n",
    "#         coffee_base_url = 'http://www.istarbucks.co.kr/menu/drink_view.do?product_cd='\n",
    "\n",
    "#         # 커피 디테일 페이지 접근\n",
    "#         driver.get(coffee_base_url + coffee_url)\n",
    "#         driver.implicitly_wait(7)\n",
    "#         html = driver.page_source\n",
    "#         soup = BeautifulSoup(html, 'lxml')\n",
    "#         pages_detail = soup.select('div.content02 > div.product_view_wrap1 > div.product_view_detail')\n",
    "#         pages_detail2 = soup.select('form > fieldset > div.product_view_info > div.product_info_content')\n",
    "#         for detail in pages_detail:\n",
    "#             # 커피 detail name\n",
    "#             detail_names = detail.select_one('div.myAssignZone > h4').get_text(strip=True)\n",
    "#             print(detail_names)\n",
    "#             # 커피 detail info\n",
    "#             detail_infos = detail.select_one('div.myAssignZone > p').get_text(strip=True)\n",
    "#             print(detail_infos)\n",
    "#             # 커피 detail 제품영양정보 단위\n",
    "#             detail_sizes = detail.select_one('form > fieldset > div.product_view_info > div.product_info_head > div.product_select_wrap2 > div.selectTxt2').get_text(strip=True)\n",
    "#             print(detail_sizes)\n",
    "#         for detail2 in pages_detail2:\n",
    "#             # 커피 detail kcal\n",
    "#             detail_kcal = detail2.select_one('ul > li.kcal > dl > dd').get_text(strip=True)\n",
    "#             print(detail_kcal)\n",
    "#             # 커피 detail sat_FAT\n",
    "#             detail_fats = detail2.select_one('ul > li.sat_FAT > dl > dd').get_text(strip=True)\n",
    "#             print(detail_fats)\n",
    "#             # 커피 detail protein\n",
    "#             detail_proteins = detail2.select_one('ul > li.protein > dl > dd').get_text(strip=True)\n",
    "#             print(detail_proteins)\n",
    "#             # 커피 detail sodium\n",
    "#             detail_sodiums = detail2.select_one('ul:nth-of-type(2) > li.sodium > dl > dd').get_text(strip=True)\n",
    "#             print(detail_sodiums)\n",
    "#             # 커피 detail sugar\n",
    "#             detail_sugars = detail2.select_one('ul:nth-of-type(2) > li.sugars > dl > dd').get_text(strip=True)\n",
    "#             print(detail_sugars)\n",
    "#             # 커피 detail caffeine\n",
    "#             detail_caffeines = detail2.select_one('ul:nth-of-type(2) > li.caffeine > dl > dd').get_text(strip=True)\n",
    "#             print(detail_caffeines)\n",
    "#             print('==== 커피 끝 ====')\n",
    "\n",
    "#         # DB 작업\n",
    "#         CoffeeCategory.objects.get_or_create(\n",
    "#             name=category_title\n",
    "#         )\n",
    "#         Coffee.objects.get_or_create(\n",
    "#             coffeeshop_list='STARBUCKS',\n",
    "#             category=CoffeeCategory.objects.get(name=category_title),\n",
    "#             name=detail_names,\n",
    "#             coffee_info=detail_infos,\n",
    "#             coffee_size=detail_sizes,\n",
    "#             calorie=detail_kcal,\n",
    "#             saturated_fat=detail_fats,\n",
    "#             protein=detail_proteins,\n",
    "#             sodium=detail_sodiums,\n",
    "#             sugars=detail_sugars,\n",
    "#             caffeine=detail_caffeines,\n",
    "#         )"
   ]
  },
  {
   "cell_type": "markdown",
   "metadata": {},
   "source": [
    "## 팝업 에러 해결중 [완료]"
   ]
  },
  {
   "cell_type": "code",
   "execution_count": 4,
   "metadata": {},
   "outputs": [],
   "source": [
    "# for a, b in zip(dt_category, dd_content):\n",
    "#     # 카테고리 타이틀 \n",
    "#     category_title = a.get_text(strip=True)\n",
    "# #     print(category_title)\n",
    "# #     print('====끝====')\n",
    "#     # 커피 이름 & 이미지 URL & 커피 디테일 URL\n",
    "#     coffee_name_image_list = b.select('ul > li.menuDataSet')\n",
    "#     for name_image in coffee_name_image_list:\n",
    "#         coffee_name = name_image.select_one('dl > dd').get_text()\n",
    "#         if '아이스 제주 유자 그린 티' in coffee_name:\n",
    "#             continue\n",
    "#         elif '애프리콧 조이풀 티' in coffee_name:\n",
    "#             continue\n",
    "#         elif '제주 유자 그린 티' in coffee_name:\n",
    "#             continue\n",
    "#         elif '아이스 제주 한라봉 눈꽃 라떼' in coffee_name:\n",
    "#             continue\n",
    "#         elif '제주 한라봉 눈꽃 라떼' in coffee_name:\n",
    "#             continue\n",
    "#         else:\n",
    "#             pass\n",
    "#         STARBUCKS_DIR = os.path.join(MEDIA_ROOT, '.starbucks')\n",
    "#         STARBUCKS_IMAGE_DIR = os.path.join(STARBUCKS_DIR, f'{coffee_name}.jpg')\n",
    "#         if not os.path.exists(STARBUCKS_DIR):\n",
    "#             os.makedirs(STARBUCKS_DIR, exist_ok=True)\n",
    "# #         print(coffee_name)\n",
    "#         coffee_image_url = name_image.select_one('dl > dt > a > img')\n",
    "#         coffee_image = coffee_image_url.get('src')\n",
    "# #         print(coffee_image)\n",
    "#         urllib.request.urlretrieve(coffee_image, STARBUCKS_IMAGE_DIR)\n",
    "#         coffee_url_total = name_image.select_one('dl > dt > a')\n",
    "#         coffee_url = coffee_url_total.get('prod')\n",
    "#         coffee_base_url = 'http://www.istarbucks.co.kr/menu/drink_view.do?product_cd='\n",
    "\n",
    "#         # 커피 디테일 페이지 접근\n",
    "#         driver.get(coffee_base_url + coffee_url)\n",
    "#         driver.implicitly_wait(7)\n",
    "#         html = driver.page_source\n",
    "#         soup = BeautifulSoup(html, 'lxml')\n",
    "#         pages_detail = soup.select('div.content02 > div.product_view_wrap1 > div.product_view_detail')\n",
    "#         pages_detail2 = soup.select('form > fieldset > div.product_view_info > div.product_info_content')\n",
    "#         for detail in pages_detail:\n",
    "#             # 커피 detail name\n",
    "#             detail_names = detail.select_one('div.myAssignZone > h4').get_text(strip=True)\n",
    "#             print(detail_names)\n",
    "#             # 커피 detail info\n",
    "#             detail_infos = detail.select_one('div.myAssignZone > p').get_text(strip=True)\n",
    "#             print(detail_infos)\n",
    "#             # 커피 detail 제품영양정보 단위\n",
    "#             detail_sizes = detail.select_one('form > fieldset > div.product_view_info > div.product_info_head > div.product_select_wrap2 > div.selectTxt2').get_text(strip=True)\n",
    "#             print(detail_sizes)\n",
    "#         for detail2 in pages_detail2:\n",
    "#             # 커피 detail kcal\n",
    "#             detail_kcal = detail2.select_one('ul > li.kcal > dl > dd').get_text(strip=True)\n",
    "#             print(detail_kcal)\n",
    "#             # 커피 detail sat_FAT\n",
    "#             detail_fats = detail2.select_one('ul > li.sat_FAT > dl > dd').get_text(strip=True)\n",
    "#             print(detail_fats)\n",
    "#             # 커피 detail protein\n",
    "#             detail_proteins = detail2.select_one('ul > li.protein > dl > dd').get_text(strip=True)\n",
    "#             print(detail_proteins)\n",
    "#             # 커피 detail sodium\n",
    "#             detail_sodiums = detail2.select_one('ul:nth-of-type(2) > li.sodium > dl > dd').get_text(strip=True)\n",
    "#             print(detail_sodiums)\n",
    "#             # 커피 detail sugar\n",
    "#             detail_sugars = detail2.select_one('ul:nth-of-type(2) > li.sugars > dl > dd').get_text(strip=True)\n",
    "#             print(detail_sugars)\n",
    "#             # 커피 detail caffeine\n",
    "#             detail_caffeines = detail2.select_one('ul:nth-of-type(2) > li.caffeine > dl > dd').get_text(strip=True)\n",
    "#             print(detail_caffeines)\n",
    "#             print('==== 커피 끝 ====')\n",
    "\n",
    "#         # DB 작업\n",
    "#         CoffeeCategory.objects.get_or_create(\n",
    "#             name=category_title\n",
    "#         )\n",
    "#         Coffee.objects.get_or_create(\n",
    "#             coffeeshop_list='STARBUCKS',\n",
    "#             category=CoffeeCategory.objects.get(name=category_title),\n",
    "#             name=detail_names,\n",
    "#             coffee_info=detail_infos,\n",
    "#             coffee_size=detail_sizes,\n",
    "#             calorie=detail_kcal,\n",
    "#             saturated_fat=detail_fats,\n",
    "#             protein=detail_proteins,\n",
    "#             sodium=detail_sodiums,\n",
    "#             sugars=detail_sugars,\n",
    "#             caffeine=detail_caffeines,\n",
    "#         )\n",
    "#         CoffeeImage.objects.get_or_create(\n",
    "#             location=coffee_image,\n",
    "#             coffee=Coffee.objects.get(name=detail_names),\n",
    "#         )\n",
    "# driver.close()\n"
   ]
  },
  {
   "cell_type": "code",
   "execution_count": 9,
   "metadata": {},
   "outputs": [
    {
     "ename": "AttributeError",
     "evalue": "'CoffeeImage' object has no attribute 'name'",
     "traceback": [
      "\u001b[0;31m---------------------------------------------------------------------------\u001b[0m",
      "\u001b[0;31mDoesNotExist\u001b[0m                              Traceback (most recent call last)",
      "\u001b[0;32m/usr/local/var/pyenv/versions/coffee-calorie/lib/python3.6/site-packages/django/db/models/query.py\u001b[0m in \u001b[0;36mget_or_create\u001b[0;34m(self, defaults, **kwargs)\u001b[0m\n\u001b[1;32m    485\u001b[0m         \u001b[0;32mtry\u001b[0m\u001b[0;34m:\u001b[0m\u001b[0;34m\u001b[0m\u001b[0;34m\u001b[0m\u001b[0m\n\u001b[0;32m--> 486\u001b[0;31m             \u001b[0;32mreturn\u001b[0m \u001b[0mself\u001b[0m\u001b[0;34m.\u001b[0m\u001b[0mget\u001b[0m\u001b[0;34m(\u001b[0m\u001b[0;34m**\u001b[0m\u001b[0mlookup\u001b[0m\u001b[0;34m)\u001b[0m\u001b[0;34m,\u001b[0m \u001b[0;32mFalse\u001b[0m\u001b[0;34m\u001b[0m\u001b[0;34m\u001b[0m\u001b[0m\n\u001b[0m\u001b[1;32m    487\u001b[0m         \u001b[0;32mexcept\u001b[0m \u001b[0mself\u001b[0m\u001b[0;34m.\u001b[0m\u001b[0mmodel\u001b[0m\u001b[0;34m.\u001b[0m\u001b[0mDoesNotExist\u001b[0m\u001b[0;34m:\u001b[0m\u001b[0;34m\u001b[0m\u001b[0;34m\u001b[0m\u001b[0m\n",
      "\u001b[0;32m/usr/local/var/pyenv/versions/coffee-calorie/lib/python3.6/site-packages/django/db/models/query.py\u001b[0m in \u001b[0;36mget\u001b[0;34m(self, *args, **kwargs)\u001b[0m\n\u001b[1;32m    398\u001b[0m                 \u001b[0;34m\"%s matching query does not exist.\"\u001b[0m \u001b[0;34m%\u001b[0m\u001b[0;34m\u001b[0m\u001b[0;34m\u001b[0m\u001b[0m\n\u001b[0;32m--> 399\u001b[0;31m                 \u001b[0mself\u001b[0m\u001b[0;34m.\u001b[0m\u001b[0mmodel\u001b[0m\u001b[0;34m.\u001b[0m\u001b[0m_meta\u001b[0m\u001b[0;34m.\u001b[0m\u001b[0mobject_name\u001b[0m\u001b[0;34m\u001b[0m\u001b[0;34m\u001b[0m\u001b[0m\n\u001b[0m\u001b[1;32m    400\u001b[0m             )\n",
      "\u001b[0;31mDoesNotExist\u001b[0m: CoffeeImage matching query does not exist.",
      "\nDuring handling of the above exception, another exception occurred:\n",
      "\u001b[0;31mAttributeError\u001b[0m                            Traceback (most recent call last)",
      "\u001b[0;32m<ipython-input-9-c18fbebd8afd>\u001b[0m in \u001b[0;36m<module>\u001b[0;34m\u001b[0m\n\u001b[1;32m     97\u001b[0m             CoffeeImage.objects.get_or_create(\n\u001b[1;32m     98\u001b[0m                 \u001b[0mlocation\u001b[0m\u001b[0;34m=\u001b[0m\u001b[0mFile\u001b[0m\u001b[0;34m(\u001b[0m\u001b[0mf\u001b[0m\u001b[0;34m)\u001b[0m\u001b[0;34m,\u001b[0m\u001b[0;34m\u001b[0m\u001b[0;34m\u001b[0m\u001b[0m\n\u001b[0;32m---> 99\u001b[0;31m                 \u001b[0mcoffee\u001b[0m\u001b[0;34m=\u001b[0m\u001b[0mcoffee\u001b[0m\u001b[0;34m,\u001b[0m\u001b[0;34m\u001b[0m\u001b[0;34m\u001b[0m\u001b[0m\n\u001b[0m\u001b[1;32m    100\u001b[0m             )\n\u001b[1;32m    101\u001b[0m             \u001b[0mf\u001b[0m\u001b[0;34m.\u001b[0m\u001b[0mclose\u001b[0m\u001b[0;34m(\u001b[0m\u001b[0;34m)\u001b[0m\u001b[0;34m\u001b[0m\u001b[0;34m\u001b[0m\u001b[0m\n",
      "\u001b[0;32m/usr/local/var/pyenv/versions/coffee-calorie/lib/python3.6/site-packages/django/db/models/manager.py\u001b[0m in \u001b[0;36mmanager_method\u001b[0;34m(self, *args, **kwargs)\u001b[0m\n\u001b[1;32m     80\u001b[0m         \u001b[0;32mdef\u001b[0m \u001b[0mcreate_method\u001b[0m\u001b[0;34m(\u001b[0m\u001b[0mname\u001b[0m\u001b[0;34m,\u001b[0m \u001b[0mmethod\u001b[0m\u001b[0;34m)\u001b[0m\u001b[0;34m:\u001b[0m\u001b[0;34m\u001b[0m\u001b[0;34m\u001b[0m\u001b[0m\n\u001b[1;32m     81\u001b[0m             \u001b[0;32mdef\u001b[0m \u001b[0mmanager_method\u001b[0m\u001b[0;34m(\u001b[0m\u001b[0mself\u001b[0m\u001b[0;34m,\u001b[0m \u001b[0;34m*\u001b[0m\u001b[0margs\u001b[0m\u001b[0;34m,\u001b[0m \u001b[0;34m**\u001b[0m\u001b[0mkwargs\u001b[0m\u001b[0;34m)\u001b[0m\u001b[0;34m:\u001b[0m\u001b[0;34m\u001b[0m\u001b[0;34m\u001b[0m\u001b[0m\n\u001b[0;32m---> 82\u001b[0;31m                 \u001b[0;32mreturn\u001b[0m \u001b[0mgetattr\u001b[0m\u001b[0;34m(\u001b[0m\u001b[0mself\u001b[0m\u001b[0;34m.\u001b[0m\u001b[0mget_queryset\u001b[0m\u001b[0;34m(\u001b[0m\u001b[0;34m)\u001b[0m\u001b[0;34m,\u001b[0m \u001b[0mname\u001b[0m\u001b[0;34m)\u001b[0m\u001b[0;34m(\u001b[0m\u001b[0;34m*\u001b[0m\u001b[0margs\u001b[0m\u001b[0;34m,\u001b[0m \u001b[0;34m**\u001b[0m\u001b[0mkwargs\u001b[0m\u001b[0;34m)\u001b[0m\u001b[0;34m\u001b[0m\u001b[0;34m\u001b[0m\u001b[0m\n\u001b[0m\u001b[1;32m     83\u001b[0m             \u001b[0mmanager_method\u001b[0m\u001b[0;34m.\u001b[0m\u001b[0m__name__\u001b[0m \u001b[0;34m=\u001b[0m \u001b[0mmethod\u001b[0m\u001b[0;34m.\u001b[0m\u001b[0m__name__\u001b[0m\u001b[0;34m\u001b[0m\u001b[0;34m\u001b[0m\u001b[0m\n\u001b[1;32m     84\u001b[0m             \u001b[0mmanager_method\u001b[0m\u001b[0;34m.\u001b[0m\u001b[0m__doc__\u001b[0m \u001b[0;34m=\u001b[0m \u001b[0mmethod\u001b[0m\u001b[0;34m.\u001b[0m\u001b[0m__doc__\u001b[0m\u001b[0;34m\u001b[0m\u001b[0;34m\u001b[0m\u001b[0m\n",
      "\u001b[0;32m/usr/local/var/pyenv/versions/coffee-calorie/lib/python3.6/site-packages/django/db/models/query.py\u001b[0m in \u001b[0;36mget_or_create\u001b[0;34m(self, defaults, **kwargs)\u001b[0m\n\u001b[1;32m    486\u001b[0m             \u001b[0;32mreturn\u001b[0m \u001b[0mself\u001b[0m\u001b[0;34m.\u001b[0m\u001b[0mget\u001b[0m\u001b[0;34m(\u001b[0m\u001b[0;34m**\u001b[0m\u001b[0mlookup\u001b[0m\u001b[0;34m)\u001b[0m\u001b[0;34m,\u001b[0m \u001b[0;32mFalse\u001b[0m\u001b[0;34m\u001b[0m\u001b[0;34m\u001b[0m\u001b[0m\n\u001b[1;32m    487\u001b[0m         \u001b[0;32mexcept\u001b[0m \u001b[0mself\u001b[0m\u001b[0;34m.\u001b[0m\u001b[0mmodel\u001b[0m\u001b[0;34m.\u001b[0m\u001b[0mDoesNotExist\u001b[0m\u001b[0;34m:\u001b[0m\u001b[0;34m\u001b[0m\u001b[0;34m\u001b[0m\u001b[0m\n\u001b[0;32m--> 488\u001b[0;31m             \u001b[0;32mreturn\u001b[0m \u001b[0mself\u001b[0m\u001b[0;34m.\u001b[0m\u001b[0m_create_object_from_params\u001b[0m\u001b[0;34m(\u001b[0m\u001b[0mlookup\u001b[0m\u001b[0;34m,\u001b[0m \u001b[0mparams\u001b[0m\u001b[0;34m)\u001b[0m\u001b[0;34m\u001b[0m\u001b[0;34m\u001b[0m\u001b[0m\n\u001b[0m\u001b[1;32m    489\u001b[0m \u001b[0;34m\u001b[0m\u001b[0m\n\u001b[1;32m    490\u001b[0m     \u001b[0;32mdef\u001b[0m \u001b[0mupdate_or_create\u001b[0m\u001b[0;34m(\u001b[0m\u001b[0mself\u001b[0m\u001b[0;34m,\u001b[0m \u001b[0mdefaults\u001b[0m\u001b[0;34m=\u001b[0m\u001b[0;32mNone\u001b[0m\u001b[0;34m,\u001b[0m \u001b[0;34m**\u001b[0m\u001b[0mkwargs\u001b[0m\u001b[0;34m)\u001b[0m\u001b[0;34m:\u001b[0m\u001b[0;34m\u001b[0m\u001b[0;34m\u001b[0m\u001b[0m\n",
      "\u001b[0;32m/usr/local/var/pyenv/versions/coffee-calorie/lib/python3.6/site-packages/django/db/models/query.py\u001b[0m in \u001b[0;36m_create_object_from_params\u001b[0;34m(self, lookup, params, lock)\u001b[0m\n\u001b[1;32m    520\u001b[0m             \u001b[0;32mwith\u001b[0m \u001b[0mtransaction\u001b[0m\u001b[0;34m.\u001b[0m\u001b[0matomic\u001b[0m\u001b[0;34m(\u001b[0m\u001b[0musing\u001b[0m\u001b[0;34m=\u001b[0m\u001b[0mself\u001b[0m\u001b[0;34m.\u001b[0m\u001b[0mdb\u001b[0m\u001b[0;34m)\u001b[0m\u001b[0;34m:\u001b[0m\u001b[0;34m\u001b[0m\u001b[0;34m\u001b[0m\u001b[0m\n\u001b[1;32m    521\u001b[0m                 \u001b[0mparams\u001b[0m \u001b[0;34m=\u001b[0m \u001b[0;34m{\u001b[0m\u001b[0mk\u001b[0m\u001b[0;34m:\u001b[0m \u001b[0mv\u001b[0m\u001b[0;34m(\u001b[0m\u001b[0;34m)\u001b[0m \u001b[0;32mif\u001b[0m \u001b[0mcallable\u001b[0m\u001b[0;34m(\u001b[0m\u001b[0mv\u001b[0m\u001b[0;34m)\u001b[0m \u001b[0;32melse\u001b[0m \u001b[0mv\u001b[0m \u001b[0;32mfor\u001b[0m \u001b[0mk\u001b[0m\u001b[0;34m,\u001b[0m \u001b[0mv\u001b[0m \u001b[0;32min\u001b[0m \u001b[0mparams\u001b[0m\u001b[0;34m.\u001b[0m\u001b[0mitems\u001b[0m\u001b[0;34m(\u001b[0m\u001b[0;34m)\u001b[0m\u001b[0;34m}\u001b[0m\u001b[0;34m\u001b[0m\u001b[0;34m\u001b[0m\u001b[0m\n\u001b[0;32m--> 522\u001b[0;31m                 \u001b[0mobj\u001b[0m \u001b[0;34m=\u001b[0m \u001b[0mself\u001b[0m\u001b[0;34m.\u001b[0m\u001b[0mcreate\u001b[0m\u001b[0;34m(\u001b[0m\u001b[0;34m**\u001b[0m\u001b[0mparams\u001b[0m\u001b[0;34m)\u001b[0m\u001b[0;34m\u001b[0m\u001b[0;34m\u001b[0m\u001b[0m\n\u001b[0m\u001b[1;32m    523\u001b[0m             \u001b[0;32mreturn\u001b[0m \u001b[0mobj\u001b[0m\u001b[0;34m,\u001b[0m \u001b[0;32mTrue\u001b[0m\u001b[0;34m\u001b[0m\u001b[0;34m\u001b[0m\u001b[0m\n\u001b[1;32m    524\u001b[0m         \u001b[0;32mexcept\u001b[0m \u001b[0mIntegrityError\u001b[0m \u001b[0;32mas\u001b[0m \u001b[0me\u001b[0m\u001b[0;34m:\u001b[0m\u001b[0;34m\u001b[0m\u001b[0;34m\u001b[0m\u001b[0m\n",
      "\u001b[0;32m/usr/local/var/pyenv/versions/coffee-calorie/lib/python3.6/site-packages/django/db/models/query.py\u001b[0m in \u001b[0;36mcreate\u001b[0;34m(self, **kwargs)\u001b[0m\n\u001b[1;32m    411\u001b[0m         \u001b[0mobj\u001b[0m \u001b[0;34m=\u001b[0m \u001b[0mself\u001b[0m\u001b[0;34m.\u001b[0m\u001b[0mmodel\u001b[0m\u001b[0;34m(\u001b[0m\u001b[0;34m**\u001b[0m\u001b[0mkwargs\u001b[0m\u001b[0;34m)\u001b[0m\u001b[0;34m\u001b[0m\u001b[0;34m\u001b[0m\u001b[0m\n\u001b[1;32m    412\u001b[0m         \u001b[0mself\u001b[0m\u001b[0;34m.\u001b[0m\u001b[0m_for_write\u001b[0m \u001b[0;34m=\u001b[0m \u001b[0;32mTrue\u001b[0m\u001b[0;34m\u001b[0m\u001b[0;34m\u001b[0m\u001b[0m\n\u001b[0;32m--> 413\u001b[0;31m         \u001b[0mobj\u001b[0m\u001b[0;34m.\u001b[0m\u001b[0msave\u001b[0m\u001b[0;34m(\u001b[0m\u001b[0mforce_insert\u001b[0m\u001b[0;34m=\u001b[0m\u001b[0;32mTrue\u001b[0m\u001b[0;34m,\u001b[0m \u001b[0musing\u001b[0m\u001b[0;34m=\u001b[0m\u001b[0mself\u001b[0m\u001b[0;34m.\u001b[0m\u001b[0mdb\u001b[0m\u001b[0;34m)\u001b[0m\u001b[0;34m\u001b[0m\u001b[0;34m\u001b[0m\u001b[0m\n\u001b[0m\u001b[1;32m    414\u001b[0m         \u001b[0;32mreturn\u001b[0m \u001b[0mobj\u001b[0m\u001b[0;34m\u001b[0m\u001b[0;34m\u001b[0m\u001b[0m\n\u001b[1;32m    415\u001b[0m \u001b[0;34m\u001b[0m\u001b[0m\n",
      "\u001b[0;32m/usr/local/var/pyenv/versions/coffee-calorie/lib/python3.6/site-packages/django/db/models/base.py\u001b[0m in \u001b[0;36msave\u001b[0;34m(self, force_insert, force_update, using, update_fields)\u001b[0m\n\u001b[1;32m    716\u001b[0m \u001b[0;34m\u001b[0m\u001b[0m\n\u001b[1;32m    717\u001b[0m         self.save_base(using=using, force_insert=force_insert,\n\u001b[0;32m--> 718\u001b[0;31m                        force_update=force_update, update_fields=update_fields)\n\u001b[0m\u001b[1;32m    719\u001b[0m     \u001b[0msave\u001b[0m\u001b[0;34m.\u001b[0m\u001b[0malters_data\u001b[0m \u001b[0;34m=\u001b[0m \u001b[0;32mTrue\u001b[0m\u001b[0;34m\u001b[0m\u001b[0;34m\u001b[0m\u001b[0m\n\u001b[1;32m    720\u001b[0m \u001b[0;34m\u001b[0m\u001b[0m\n",
      "\u001b[0;32m/usr/local/var/pyenv/versions/coffee-calorie/lib/python3.6/site-packages/django/db/models/base.py\u001b[0m in \u001b[0;36msave_base\u001b[0;34m(self, raw, force_insert, force_update, using, update_fields)\u001b[0m\n\u001b[1;32m    746\u001b[0m             \u001b[0;32mif\u001b[0m \u001b[0;32mnot\u001b[0m \u001b[0mraw\u001b[0m\u001b[0;34m:\u001b[0m\u001b[0;34m\u001b[0m\u001b[0;34m\u001b[0m\u001b[0m\n\u001b[1;32m    747\u001b[0m                 \u001b[0mself\u001b[0m\u001b[0;34m.\u001b[0m\u001b[0m_save_parents\u001b[0m\u001b[0;34m(\u001b[0m\u001b[0mcls\u001b[0m\u001b[0;34m,\u001b[0m \u001b[0musing\u001b[0m\u001b[0;34m,\u001b[0m \u001b[0mupdate_fields\u001b[0m\u001b[0;34m)\u001b[0m\u001b[0;34m\u001b[0m\u001b[0;34m\u001b[0m\u001b[0m\n\u001b[0;32m--> 748\u001b[0;31m             \u001b[0mupdated\u001b[0m \u001b[0;34m=\u001b[0m \u001b[0mself\u001b[0m\u001b[0;34m.\u001b[0m\u001b[0m_save_table\u001b[0m\u001b[0;34m(\u001b[0m\u001b[0mraw\u001b[0m\u001b[0;34m,\u001b[0m \u001b[0mcls\u001b[0m\u001b[0;34m,\u001b[0m \u001b[0mforce_insert\u001b[0m\u001b[0;34m,\u001b[0m \u001b[0mforce_update\u001b[0m\u001b[0;34m,\u001b[0m \u001b[0musing\u001b[0m\u001b[0;34m,\u001b[0m \u001b[0mupdate_fields\u001b[0m\u001b[0;34m)\u001b[0m\u001b[0;34m\u001b[0m\u001b[0;34m\u001b[0m\u001b[0m\n\u001b[0m\u001b[1;32m    749\u001b[0m         \u001b[0;31m# Store the database on which the object was saved\u001b[0m\u001b[0;34m\u001b[0m\u001b[0;34m\u001b[0m\u001b[0;34m\u001b[0m\u001b[0m\n\u001b[1;32m    750\u001b[0m         \u001b[0mself\u001b[0m\u001b[0;34m.\u001b[0m\u001b[0m_state\u001b[0m\u001b[0;34m.\u001b[0m\u001b[0mdb\u001b[0m \u001b[0;34m=\u001b[0m \u001b[0musing\u001b[0m\u001b[0;34m\u001b[0m\u001b[0;34m\u001b[0m\u001b[0m\n",
      "\u001b[0;32m/usr/local/var/pyenv/versions/coffee-calorie/lib/python3.6/site-packages/django/db/models/base.py\u001b[0m in \u001b[0;36m_save_table\u001b[0;34m(self, raw, cls, force_insert, force_update, using, update_fields)\u001b[0m\n\u001b[1;32m    829\u001b[0m \u001b[0;34m\u001b[0m\u001b[0m\n\u001b[1;32m    830\u001b[0m             \u001b[0mupdate_pk\u001b[0m \u001b[0;34m=\u001b[0m \u001b[0mmeta\u001b[0m\u001b[0;34m.\u001b[0m\u001b[0mauto_field\u001b[0m \u001b[0;32mand\u001b[0m \u001b[0;32mnot\u001b[0m \u001b[0mpk_set\u001b[0m\u001b[0;34m\u001b[0m\u001b[0;34m\u001b[0m\u001b[0m\n\u001b[0;32m--> 831\u001b[0;31m             \u001b[0mresult\u001b[0m \u001b[0;34m=\u001b[0m \u001b[0mself\u001b[0m\u001b[0;34m.\u001b[0m\u001b[0m_do_insert\u001b[0m\u001b[0;34m(\u001b[0m\u001b[0mcls\u001b[0m\u001b[0;34m.\u001b[0m\u001b[0m_base_manager\u001b[0m\u001b[0;34m,\u001b[0m \u001b[0musing\u001b[0m\u001b[0;34m,\u001b[0m \u001b[0mfields\u001b[0m\u001b[0;34m,\u001b[0m \u001b[0mupdate_pk\u001b[0m\u001b[0;34m,\u001b[0m \u001b[0mraw\u001b[0m\u001b[0;34m)\u001b[0m\u001b[0;34m\u001b[0m\u001b[0;34m\u001b[0m\u001b[0m\n\u001b[0m\u001b[1;32m    832\u001b[0m             \u001b[0;32mif\u001b[0m \u001b[0mupdate_pk\u001b[0m\u001b[0;34m:\u001b[0m\u001b[0;34m\u001b[0m\u001b[0;34m\u001b[0m\u001b[0m\n\u001b[1;32m    833\u001b[0m                 \u001b[0msetattr\u001b[0m\u001b[0;34m(\u001b[0m\u001b[0mself\u001b[0m\u001b[0;34m,\u001b[0m \u001b[0mmeta\u001b[0m\u001b[0;34m.\u001b[0m\u001b[0mpk\u001b[0m\u001b[0;34m.\u001b[0m\u001b[0mattname\u001b[0m\u001b[0;34m,\u001b[0m \u001b[0mresult\u001b[0m\u001b[0;34m)\u001b[0m\u001b[0;34m\u001b[0m\u001b[0;34m\u001b[0m\u001b[0m\n",
      "\u001b[0;32m/usr/local/var/pyenv/versions/coffee-calorie/lib/python3.6/site-packages/django/db/models/base.py\u001b[0m in \u001b[0;36m_do_insert\u001b[0;34m(self, manager, using, fields, update_pk, raw)\u001b[0m\n\u001b[1;32m    867\u001b[0m         \"\"\"\n\u001b[1;32m    868\u001b[0m         return manager._insert([self], fields=fields, return_id=update_pk,\n\u001b[0;32m--> 869\u001b[0;31m                                using=using, raw=raw)\n\u001b[0m\u001b[1;32m    870\u001b[0m \u001b[0;34m\u001b[0m\u001b[0m\n\u001b[1;32m    871\u001b[0m     \u001b[0;32mdef\u001b[0m \u001b[0mdelete\u001b[0m\u001b[0;34m(\u001b[0m\u001b[0mself\u001b[0m\u001b[0;34m,\u001b[0m \u001b[0musing\u001b[0m\u001b[0;34m=\u001b[0m\u001b[0;32mNone\u001b[0m\u001b[0;34m,\u001b[0m \u001b[0mkeep_parents\u001b[0m\u001b[0;34m=\u001b[0m\u001b[0;32mFalse\u001b[0m\u001b[0;34m)\u001b[0m\u001b[0;34m:\u001b[0m\u001b[0;34m\u001b[0m\u001b[0;34m\u001b[0m\u001b[0m\n",
      "\u001b[0;32m/usr/local/var/pyenv/versions/coffee-calorie/lib/python3.6/site-packages/django/db/models/manager.py\u001b[0m in \u001b[0;36mmanager_method\u001b[0;34m(self, *args, **kwargs)\u001b[0m\n\u001b[1;32m     80\u001b[0m         \u001b[0;32mdef\u001b[0m \u001b[0mcreate_method\u001b[0m\u001b[0;34m(\u001b[0m\u001b[0mname\u001b[0m\u001b[0;34m,\u001b[0m \u001b[0mmethod\u001b[0m\u001b[0;34m)\u001b[0m\u001b[0;34m:\u001b[0m\u001b[0;34m\u001b[0m\u001b[0;34m\u001b[0m\u001b[0m\n\u001b[1;32m     81\u001b[0m             \u001b[0;32mdef\u001b[0m \u001b[0mmanager_method\u001b[0m\u001b[0;34m(\u001b[0m\u001b[0mself\u001b[0m\u001b[0;34m,\u001b[0m \u001b[0;34m*\u001b[0m\u001b[0margs\u001b[0m\u001b[0;34m,\u001b[0m \u001b[0;34m**\u001b[0m\u001b[0mkwargs\u001b[0m\u001b[0;34m)\u001b[0m\u001b[0;34m:\u001b[0m\u001b[0;34m\u001b[0m\u001b[0;34m\u001b[0m\u001b[0m\n\u001b[0;32m---> 82\u001b[0;31m                 \u001b[0;32mreturn\u001b[0m \u001b[0mgetattr\u001b[0m\u001b[0;34m(\u001b[0m\u001b[0mself\u001b[0m\u001b[0;34m.\u001b[0m\u001b[0mget_queryset\u001b[0m\u001b[0;34m(\u001b[0m\u001b[0;34m)\u001b[0m\u001b[0;34m,\u001b[0m \u001b[0mname\u001b[0m\u001b[0;34m)\u001b[0m\u001b[0;34m(\u001b[0m\u001b[0;34m*\u001b[0m\u001b[0margs\u001b[0m\u001b[0;34m,\u001b[0m \u001b[0;34m**\u001b[0m\u001b[0mkwargs\u001b[0m\u001b[0;34m)\u001b[0m\u001b[0;34m\u001b[0m\u001b[0;34m\u001b[0m\u001b[0m\n\u001b[0m\u001b[1;32m     83\u001b[0m             \u001b[0mmanager_method\u001b[0m\u001b[0;34m.\u001b[0m\u001b[0m__name__\u001b[0m \u001b[0;34m=\u001b[0m \u001b[0mmethod\u001b[0m\u001b[0;34m.\u001b[0m\u001b[0m__name__\u001b[0m\u001b[0;34m\u001b[0m\u001b[0;34m\u001b[0m\u001b[0m\n\u001b[1;32m     84\u001b[0m             \u001b[0mmanager_method\u001b[0m\u001b[0;34m.\u001b[0m\u001b[0m__doc__\u001b[0m \u001b[0;34m=\u001b[0m \u001b[0mmethod\u001b[0m\u001b[0;34m.\u001b[0m\u001b[0m__doc__\u001b[0m\u001b[0;34m\u001b[0m\u001b[0;34m\u001b[0m\u001b[0m\n",
      "\u001b[0;32m/usr/local/var/pyenv/versions/coffee-calorie/lib/python3.6/site-packages/django/db/models/query.py\u001b[0m in \u001b[0;36m_insert\u001b[0;34m(self, objs, fields, return_id, raw, using)\u001b[0m\n\u001b[1;32m   1134\u001b[0m         \u001b[0mquery\u001b[0m \u001b[0;34m=\u001b[0m \u001b[0msql\u001b[0m\u001b[0;34m.\u001b[0m\u001b[0mInsertQuery\u001b[0m\u001b[0;34m(\u001b[0m\u001b[0mself\u001b[0m\u001b[0;34m.\u001b[0m\u001b[0mmodel\u001b[0m\u001b[0;34m)\u001b[0m\u001b[0;34m\u001b[0m\u001b[0;34m\u001b[0m\u001b[0m\n\u001b[1;32m   1135\u001b[0m         \u001b[0mquery\u001b[0m\u001b[0;34m.\u001b[0m\u001b[0minsert_values\u001b[0m\u001b[0;34m(\u001b[0m\u001b[0mfields\u001b[0m\u001b[0;34m,\u001b[0m \u001b[0mobjs\u001b[0m\u001b[0;34m,\u001b[0m \u001b[0mraw\u001b[0m\u001b[0;34m=\u001b[0m\u001b[0mraw\u001b[0m\u001b[0;34m)\u001b[0m\u001b[0;34m\u001b[0m\u001b[0;34m\u001b[0m\u001b[0m\n\u001b[0;32m-> 1136\u001b[0;31m         \u001b[0;32mreturn\u001b[0m \u001b[0mquery\u001b[0m\u001b[0;34m.\u001b[0m\u001b[0mget_compiler\u001b[0m\u001b[0;34m(\u001b[0m\u001b[0musing\u001b[0m\u001b[0;34m=\u001b[0m\u001b[0musing\u001b[0m\u001b[0;34m)\u001b[0m\u001b[0;34m.\u001b[0m\u001b[0mexecute_sql\u001b[0m\u001b[0;34m(\u001b[0m\u001b[0mreturn_id\u001b[0m\u001b[0;34m)\u001b[0m\u001b[0;34m\u001b[0m\u001b[0;34m\u001b[0m\u001b[0m\n\u001b[0m\u001b[1;32m   1137\u001b[0m     \u001b[0m_insert\u001b[0m\u001b[0;34m.\u001b[0m\u001b[0malters_data\u001b[0m \u001b[0;34m=\u001b[0m \u001b[0;32mTrue\u001b[0m\u001b[0;34m\u001b[0m\u001b[0;34m\u001b[0m\u001b[0m\n\u001b[1;32m   1138\u001b[0m     \u001b[0m_insert\u001b[0m\u001b[0;34m.\u001b[0m\u001b[0mqueryset_only\u001b[0m \u001b[0;34m=\u001b[0m \u001b[0;32mFalse\u001b[0m\u001b[0;34m\u001b[0m\u001b[0;34m\u001b[0m\u001b[0m\n",
      "\u001b[0;32m/usr/local/var/pyenv/versions/coffee-calorie/lib/python3.6/site-packages/django/db/models/sql/compiler.py\u001b[0m in \u001b[0;36mexecute_sql\u001b[0;34m(self, return_id)\u001b[0m\n\u001b[1;32m   1286\u001b[0m         \u001b[0mself\u001b[0m\u001b[0;34m.\u001b[0m\u001b[0mreturn_id\u001b[0m \u001b[0;34m=\u001b[0m \u001b[0mreturn_id\u001b[0m\u001b[0;34m\u001b[0m\u001b[0;34m\u001b[0m\u001b[0m\n\u001b[1;32m   1287\u001b[0m         \u001b[0;32mwith\u001b[0m \u001b[0mself\u001b[0m\u001b[0;34m.\u001b[0m\u001b[0mconnection\u001b[0m\u001b[0;34m.\u001b[0m\u001b[0mcursor\u001b[0m\u001b[0;34m(\u001b[0m\u001b[0;34m)\u001b[0m \u001b[0;32mas\u001b[0m \u001b[0mcursor\u001b[0m\u001b[0;34m:\u001b[0m\u001b[0;34m\u001b[0m\u001b[0;34m\u001b[0m\u001b[0m\n\u001b[0;32m-> 1288\u001b[0;31m             \u001b[0;32mfor\u001b[0m \u001b[0msql\u001b[0m\u001b[0;34m,\u001b[0m \u001b[0mparams\u001b[0m \u001b[0;32min\u001b[0m \u001b[0mself\u001b[0m\u001b[0;34m.\u001b[0m\u001b[0mas_sql\u001b[0m\u001b[0;34m(\u001b[0m\u001b[0;34m)\u001b[0m\u001b[0;34m:\u001b[0m\u001b[0;34m\u001b[0m\u001b[0;34m\u001b[0m\u001b[0m\n\u001b[0m\u001b[1;32m   1289\u001b[0m                 \u001b[0mcursor\u001b[0m\u001b[0;34m.\u001b[0m\u001b[0mexecute\u001b[0m\u001b[0;34m(\u001b[0m\u001b[0msql\u001b[0m\u001b[0;34m,\u001b[0m \u001b[0mparams\u001b[0m\u001b[0;34m)\u001b[0m\u001b[0;34m\u001b[0m\u001b[0;34m\u001b[0m\u001b[0m\n\u001b[1;32m   1290\u001b[0m             \u001b[0;32mif\u001b[0m \u001b[0;32mnot\u001b[0m \u001b[0mreturn_id\u001b[0m\u001b[0;34m:\u001b[0m\u001b[0;34m\u001b[0m\u001b[0;34m\u001b[0m\u001b[0m\n",
      "\u001b[0;32m/usr/local/var/pyenv/versions/coffee-calorie/lib/python3.6/site-packages/django/db/models/sql/compiler.py\u001b[0m in \u001b[0;36mas_sql\u001b[0;34m(self)\u001b[0m\n\u001b[1;32m   1239\u001b[0m             value_rows = [\n\u001b[1;32m   1240\u001b[0m                 \u001b[0;34m[\u001b[0m\u001b[0mself\u001b[0m\u001b[0;34m.\u001b[0m\u001b[0mprepare_value\u001b[0m\u001b[0;34m(\u001b[0m\u001b[0mfield\u001b[0m\u001b[0;34m,\u001b[0m \u001b[0mself\u001b[0m\u001b[0;34m.\u001b[0m\u001b[0mpre_save_val\u001b[0m\u001b[0;34m(\u001b[0m\u001b[0mfield\u001b[0m\u001b[0;34m,\u001b[0m \u001b[0mobj\u001b[0m\u001b[0;34m)\u001b[0m\u001b[0;34m)\u001b[0m \u001b[0;32mfor\u001b[0m \u001b[0mfield\u001b[0m \u001b[0;32min\u001b[0m \u001b[0mfields\u001b[0m\u001b[0;34m]\u001b[0m\u001b[0;34m\u001b[0m\u001b[0;34m\u001b[0m\u001b[0m\n\u001b[0;32m-> 1241\u001b[0;31m                 \u001b[0;32mfor\u001b[0m \u001b[0mobj\u001b[0m \u001b[0;32min\u001b[0m \u001b[0mself\u001b[0m\u001b[0;34m.\u001b[0m\u001b[0mquery\u001b[0m\u001b[0;34m.\u001b[0m\u001b[0mobjs\u001b[0m\u001b[0;34m\u001b[0m\u001b[0;34m\u001b[0m\u001b[0m\n\u001b[0m\u001b[1;32m   1242\u001b[0m             ]\n\u001b[1;32m   1243\u001b[0m         \u001b[0;32melse\u001b[0m\u001b[0;34m:\u001b[0m\u001b[0;34m\u001b[0m\u001b[0;34m\u001b[0m\u001b[0m\n",
      "\u001b[0;32m/usr/local/var/pyenv/versions/coffee-calorie/lib/python3.6/site-packages/django/db/models/sql/compiler.py\u001b[0m in \u001b[0;36m<listcomp>\u001b[0;34m(.0)\u001b[0m\n\u001b[1;32m   1239\u001b[0m             value_rows = [\n\u001b[1;32m   1240\u001b[0m                 \u001b[0;34m[\u001b[0m\u001b[0mself\u001b[0m\u001b[0;34m.\u001b[0m\u001b[0mprepare_value\u001b[0m\u001b[0;34m(\u001b[0m\u001b[0mfield\u001b[0m\u001b[0;34m,\u001b[0m \u001b[0mself\u001b[0m\u001b[0;34m.\u001b[0m\u001b[0mpre_save_val\u001b[0m\u001b[0;34m(\u001b[0m\u001b[0mfield\u001b[0m\u001b[0;34m,\u001b[0m \u001b[0mobj\u001b[0m\u001b[0;34m)\u001b[0m\u001b[0;34m)\u001b[0m \u001b[0;32mfor\u001b[0m \u001b[0mfield\u001b[0m \u001b[0;32min\u001b[0m \u001b[0mfields\u001b[0m\u001b[0;34m]\u001b[0m\u001b[0;34m\u001b[0m\u001b[0;34m\u001b[0m\u001b[0m\n\u001b[0;32m-> 1241\u001b[0;31m                 \u001b[0;32mfor\u001b[0m \u001b[0mobj\u001b[0m \u001b[0;32min\u001b[0m \u001b[0mself\u001b[0m\u001b[0;34m.\u001b[0m\u001b[0mquery\u001b[0m\u001b[0;34m.\u001b[0m\u001b[0mobjs\u001b[0m\u001b[0;34m\u001b[0m\u001b[0;34m\u001b[0m\u001b[0m\n\u001b[0m\u001b[1;32m   1242\u001b[0m             ]\n\u001b[1;32m   1243\u001b[0m         \u001b[0;32melse\u001b[0m\u001b[0;34m:\u001b[0m\u001b[0;34m\u001b[0m\u001b[0;34m\u001b[0m\u001b[0m\n",
      "\u001b[0;32m/usr/local/var/pyenv/versions/coffee-calorie/lib/python3.6/site-packages/django/db/models/sql/compiler.py\u001b[0m in \u001b[0;36m<listcomp>\u001b[0;34m(.0)\u001b[0m\n\u001b[1;32m   1238\u001b[0m         \u001b[0;32mif\u001b[0m \u001b[0mself\u001b[0m\u001b[0;34m.\u001b[0m\u001b[0mquery\u001b[0m\u001b[0;34m.\u001b[0m\u001b[0mfields\u001b[0m\u001b[0;34m:\u001b[0m\u001b[0;34m\u001b[0m\u001b[0;34m\u001b[0m\u001b[0m\n\u001b[1;32m   1239\u001b[0m             value_rows = [\n\u001b[0;32m-> 1240\u001b[0;31m                 \u001b[0;34m[\u001b[0m\u001b[0mself\u001b[0m\u001b[0;34m.\u001b[0m\u001b[0mprepare_value\u001b[0m\u001b[0;34m(\u001b[0m\u001b[0mfield\u001b[0m\u001b[0;34m,\u001b[0m \u001b[0mself\u001b[0m\u001b[0;34m.\u001b[0m\u001b[0mpre_save_val\u001b[0m\u001b[0;34m(\u001b[0m\u001b[0mfield\u001b[0m\u001b[0;34m,\u001b[0m \u001b[0mobj\u001b[0m\u001b[0;34m)\u001b[0m\u001b[0;34m)\u001b[0m \u001b[0;32mfor\u001b[0m \u001b[0mfield\u001b[0m \u001b[0;32min\u001b[0m \u001b[0mfields\u001b[0m\u001b[0;34m]\u001b[0m\u001b[0;34m\u001b[0m\u001b[0;34m\u001b[0m\u001b[0m\n\u001b[0m\u001b[1;32m   1241\u001b[0m                 \u001b[0;32mfor\u001b[0m \u001b[0mobj\u001b[0m \u001b[0;32min\u001b[0m \u001b[0mself\u001b[0m\u001b[0;34m.\u001b[0m\u001b[0mquery\u001b[0m\u001b[0;34m.\u001b[0m\u001b[0mobjs\u001b[0m\u001b[0;34m\u001b[0m\u001b[0;34m\u001b[0m\u001b[0m\n\u001b[1;32m   1242\u001b[0m             ]\n",
      "\u001b[0;32m/usr/local/var/pyenv/versions/coffee-calorie/lib/python3.6/site-packages/django/db/models/sql/compiler.py\u001b[0m in \u001b[0;36mpre_save_val\u001b[0;34m(self, field, obj)\u001b[0m\n\u001b[1;32m   1190\u001b[0m         \u001b[0;32mif\u001b[0m \u001b[0mself\u001b[0m\u001b[0;34m.\u001b[0m\u001b[0mquery\u001b[0m\u001b[0;34m.\u001b[0m\u001b[0mraw\u001b[0m\u001b[0;34m:\u001b[0m\u001b[0;34m\u001b[0m\u001b[0;34m\u001b[0m\u001b[0m\n\u001b[1;32m   1191\u001b[0m             \u001b[0;32mreturn\u001b[0m \u001b[0mgetattr\u001b[0m\u001b[0;34m(\u001b[0m\u001b[0mobj\u001b[0m\u001b[0;34m,\u001b[0m \u001b[0mfield\u001b[0m\u001b[0;34m.\u001b[0m\u001b[0mattname\u001b[0m\u001b[0;34m)\u001b[0m\u001b[0;34m\u001b[0m\u001b[0;34m\u001b[0m\u001b[0m\n\u001b[0;32m-> 1192\u001b[0;31m         \u001b[0;32mreturn\u001b[0m \u001b[0mfield\u001b[0m\u001b[0;34m.\u001b[0m\u001b[0mpre_save\u001b[0m\u001b[0;34m(\u001b[0m\u001b[0mobj\u001b[0m\u001b[0;34m,\u001b[0m \u001b[0madd\u001b[0m\u001b[0;34m=\u001b[0m\u001b[0;32mTrue\u001b[0m\u001b[0;34m)\u001b[0m\u001b[0;34m\u001b[0m\u001b[0;34m\u001b[0m\u001b[0m\n\u001b[0m\u001b[1;32m   1193\u001b[0m \u001b[0;34m\u001b[0m\u001b[0m\n\u001b[1;32m   1194\u001b[0m     \u001b[0;32mdef\u001b[0m \u001b[0massemble_as_sql\u001b[0m\u001b[0;34m(\u001b[0m\u001b[0mself\u001b[0m\u001b[0;34m,\u001b[0m \u001b[0mfields\u001b[0m\u001b[0;34m,\u001b[0m \u001b[0mvalue_rows\u001b[0m\u001b[0;34m)\u001b[0m\u001b[0;34m:\u001b[0m\u001b[0;34m\u001b[0m\u001b[0;34m\u001b[0m\u001b[0m\n",
      "\u001b[0;32m/usr/local/var/pyenv/versions/coffee-calorie/lib/python3.6/site-packages/django/db/models/fields/files.py\u001b[0m in \u001b[0;36mpre_save\u001b[0;34m(self, model_instance, add)\u001b[0m\n\u001b[1;32m    286\u001b[0m         \u001b[0;32mif\u001b[0m \u001b[0mfile\u001b[0m \u001b[0;32mand\u001b[0m \u001b[0;32mnot\u001b[0m \u001b[0mfile\u001b[0m\u001b[0;34m.\u001b[0m\u001b[0m_committed\u001b[0m\u001b[0;34m:\u001b[0m\u001b[0;34m\u001b[0m\u001b[0;34m\u001b[0m\u001b[0m\n\u001b[1;32m    287\u001b[0m             \u001b[0;31m# Commit the file to storage prior to saving the model\u001b[0m\u001b[0;34m\u001b[0m\u001b[0;34m\u001b[0m\u001b[0;34m\u001b[0m\u001b[0m\n\u001b[0;32m--> 288\u001b[0;31m             \u001b[0mfile\u001b[0m\u001b[0;34m.\u001b[0m\u001b[0msave\u001b[0m\u001b[0;34m(\u001b[0m\u001b[0mfile\u001b[0m\u001b[0;34m.\u001b[0m\u001b[0mname\u001b[0m\u001b[0;34m,\u001b[0m \u001b[0mfile\u001b[0m\u001b[0;34m.\u001b[0m\u001b[0mfile\u001b[0m\u001b[0;34m,\u001b[0m \u001b[0msave\u001b[0m\u001b[0;34m=\u001b[0m\u001b[0;32mFalse\u001b[0m\u001b[0;34m)\u001b[0m\u001b[0;34m\u001b[0m\u001b[0;34m\u001b[0m\u001b[0m\n\u001b[0m\u001b[1;32m    289\u001b[0m         \u001b[0;32mreturn\u001b[0m \u001b[0mfile\u001b[0m\u001b[0;34m\u001b[0m\u001b[0;34m\u001b[0m\u001b[0m\n\u001b[1;32m    290\u001b[0m \u001b[0;34m\u001b[0m\u001b[0m\n",
      "\u001b[0;32m/usr/local/var/pyenv/versions/coffee-calorie/lib/python3.6/site-packages/django/db/models/fields/files.py\u001b[0m in \u001b[0;36msave\u001b[0;34m(self, name, content, save)\u001b[0m\n\u001b[1;32m     84\u001b[0m \u001b[0;34m\u001b[0m\u001b[0m\n\u001b[1;32m     85\u001b[0m     \u001b[0;32mdef\u001b[0m \u001b[0msave\u001b[0m\u001b[0;34m(\u001b[0m\u001b[0mself\u001b[0m\u001b[0;34m,\u001b[0m \u001b[0mname\u001b[0m\u001b[0;34m,\u001b[0m \u001b[0mcontent\u001b[0m\u001b[0;34m,\u001b[0m \u001b[0msave\u001b[0m\u001b[0;34m=\u001b[0m\u001b[0;32mTrue\u001b[0m\u001b[0;34m)\u001b[0m\u001b[0;34m:\u001b[0m\u001b[0;34m\u001b[0m\u001b[0;34m\u001b[0m\u001b[0m\n\u001b[0;32m---> 86\u001b[0;31m         \u001b[0mname\u001b[0m \u001b[0;34m=\u001b[0m \u001b[0mself\u001b[0m\u001b[0;34m.\u001b[0m\u001b[0mfield\u001b[0m\u001b[0;34m.\u001b[0m\u001b[0mgenerate_filename\u001b[0m\u001b[0;34m(\u001b[0m\u001b[0mself\u001b[0m\u001b[0;34m.\u001b[0m\u001b[0minstance\u001b[0m\u001b[0;34m,\u001b[0m \u001b[0mname\u001b[0m\u001b[0;34m)\u001b[0m\u001b[0;34m\u001b[0m\u001b[0;34m\u001b[0m\u001b[0m\n\u001b[0m\u001b[1;32m     87\u001b[0m         \u001b[0mself\u001b[0m\u001b[0;34m.\u001b[0m\u001b[0mname\u001b[0m \u001b[0;34m=\u001b[0m \u001b[0mself\u001b[0m\u001b[0;34m.\u001b[0m\u001b[0mstorage\u001b[0m\u001b[0;34m.\u001b[0m\u001b[0msave\u001b[0m\u001b[0;34m(\u001b[0m\u001b[0mname\u001b[0m\u001b[0;34m,\u001b[0m \u001b[0mcontent\u001b[0m\u001b[0;34m,\u001b[0m \u001b[0mmax_length\u001b[0m\u001b[0;34m=\u001b[0m\u001b[0mself\u001b[0m\u001b[0;34m.\u001b[0m\u001b[0mfield\u001b[0m\u001b[0;34m.\u001b[0m\u001b[0mmax_length\u001b[0m\u001b[0;34m)\u001b[0m\u001b[0;34m\u001b[0m\u001b[0;34m\u001b[0m\u001b[0m\n\u001b[1;32m     88\u001b[0m         \u001b[0msetattr\u001b[0m\u001b[0;34m(\u001b[0m\u001b[0mself\u001b[0m\u001b[0;34m.\u001b[0m\u001b[0minstance\u001b[0m\u001b[0;34m,\u001b[0m \u001b[0mself\u001b[0m\u001b[0;34m.\u001b[0m\u001b[0mfield\u001b[0m\u001b[0;34m.\u001b[0m\u001b[0mname\u001b[0m\u001b[0;34m,\u001b[0m \u001b[0mself\u001b[0m\u001b[0;34m.\u001b[0m\u001b[0mname\u001b[0m\u001b[0;34m)\u001b[0m\u001b[0;34m\u001b[0m\u001b[0;34m\u001b[0m\u001b[0m\n",
      "\u001b[0;32m/usr/local/var/pyenv/versions/coffee-calorie/lib/python3.6/site-packages/django/db/models/fields/files.py\u001b[0m in \u001b[0;36mgenerate_filename\u001b[0;34m(self, instance, filename)\u001b[0m\n\u001b[1;32m    301\u001b[0m         \"\"\"\n\u001b[1;32m    302\u001b[0m         \u001b[0;32mif\u001b[0m \u001b[0mcallable\u001b[0m\u001b[0;34m(\u001b[0m\u001b[0mself\u001b[0m\u001b[0;34m.\u001b[0m\u001b[0mupload_to\u001b[0m\u001b[0;34m)\u001b[0m\u001b[0;34m:\u001b[0m\u001b[0;34m\u001b[0m\u001b[0;34m\u001b[0m\u001b[0m\n\u001b[0;32m--> 303\u001b[0;31m             \u001b[0mfilename\u001b[0m \u001b[0;34m=\u001b[0m \u001b[0mself\u001b[0m\u001b[0;34m.\u001b[0m\u001b[0mupload_to\u001b[0m\u001b[0;34m(\u001b[0m\u001b[0minstance\u001b[0m\u001b[0;34m,\u001b[0m \u001b[0mfilename\u001b[0m\u001b[0;34m)\u001b[0m\u001b[0;34m\u001b[0m\u001b[0;34m\u001b[0m\u001b[0m\n\u001b[0m\u001b[1;32m    304\u001b[0m         \u001b[0;32melse\u001b[0m\u001b[0;34m:\u001b[0m\u001b[0;34m\u001b[0m\u001b[0;34m\u001b[0m\u001b[0m\n\u001b[1;32m    305\u001b[0m             \u001b[0mdirname\u001b[0m \u001b[0;34m=\u001b[0m \u001b[0mdatetime\u001b[0m\u001b[0;34m.\u001b[0m\u001b[0mdatetime\u001b[0m\u001b[0;34m.\u001b[0m\u001b[0mnow\u001b[0m\u001b[0;34m(\u001b[0m\u001b[0;34m)\u001b[0m\u001b[0;34m.\u001b[0m\u001b[0mstrftime\u001b[0m\u001b[0;34m(\u001b[0m\u001b[0mself\u001b[0m\u001b[0;34m.\u001b[0m\u001b[0mupload_to\u001b[0m\u001b[0;34m)\u001b[0m\u001b[0;34m\u001b[0m\u001b[0;34m\u001b[0m\u001b[0m\n",
      "\u001b[0;32m~/projects/coffeecalorie/app/coffeeshop/models.py\u001b[0m in \u001b[0;36mcoffee_path\u001b[0;34m(instance, filename)\u001b[0m\n\u001b[1;32m      3\u001b[0m \u001b[0;32mfrom\u001b[0m \u001b[0mcoffeeshop\u001b[0m\u001b[0;34m.\u001b[0m\u001b[0mcrawling\u001b[0m\u001b[0;34m.\u001b[0m\u001b[0mstarbucks\u001b[0m \u001b[0;32mimport\u001b[0m \u001b[0mStarbucks\u001b[0m\u001b[0;34m\u001b[0m\u001b[0;34m\u001b[0m\u001b[0m\n\u001b[1;32m      4\u001b[0m \u001b[0;34m\u001b[0m\u001b[0m\n\u001b[0;32m----> 5\u001b[0;31m \u001b[0;34m\u001b[0m\u001b[0m\n\u001b[0m\u001b[1;32m      6\u001b[0m \u001b[0;32mdef\u001b[0m \u001b[0mcoffee_path\u001b[0m\u001b[0;34m(\u001b[0m\u001b[0minstance\u001b[0m\u001b[0;34m,\u001b[0m \u001b[0mfilename\u001b[0m\u001b[0;34m)\u001b[0m\u001b[0;34m:\u001b[0m\u001b[0;34m\u001b[0m\u001b[0;34m\u001b[0m\u001b[0m\n\u001b[1;32m      7\u001b[0m     \u001b[0mstar_path\u001b[0m \u001b[0;34m=\u001b[0m \u001b[0;34mf'{instance.coffee.name}/{instance.coffee.name}.jpg'\u001b[0m\u001b[0;34m\u001b[0m\u001b[0;34m\u001b[0m\u001b[0m\n",
      "\u001b[0;31mAttributeError\u001b[0m: 'CoffeeImage' object has no attribute 'name'"
     ],
     "output_type": "error"
    }
   ],
   "source": [
    "import os\n",
    "\n",
    "import boto3\n",
    "\n",
    "from config.settings import dev\n",
    "from config.settings.base import CHROME_DRIVER\n",
    "from coffeeshop import models\n",
    "from config.settings.base import MEDIA_ROOT\n",
    "from django.core.files import File\n",
    "from django.shortcuts import get_object_or_404\n",
    "\n",
    "from selenium import webdriver\n",
    "from selenium.webdriver.chrome.options import Options\n",
    "from bs4 import BeautifulSoup\n",
    "import urllib.request\n",
    "\n",
    "for a, b in zip(dt_category, dd_content):\n",
    "    # 카테고리 타이틀\n",
    "    category_title = a.get_text(strip=True)\n",
    "    # 커피 이름 & 이미지 URL & 커피 디테일 URL\n",
    "    coffee_name_image_list = b.select('ul > li.menuDataSet')\n",
    "    for name_image in coffee_name_image_list:\n",
    "        coffee_name = name_image.select_one('dl > dd').get_text()\n",
    "        if '아이스 제주 유자 그린 티' in coffee_name:\n",
    "            continue\n",
    "        elif '애프리콧 조이풀 티' in coffee_name:\n",
    "            continue\n",
    "        elif '제주 유자 그린 티' in coffee_name:\n",
    "            continue\n",
    "        elif '아이스 제주 한라봉 눈꽃 라떼' in coffee_name:\n",
    "            continue\n",
    "        elif '제주 한라봉 눈꽃 라떼' in coffee_name:\n",
    "            continue\n",
    "        else:\n",
    "            pass\n",
    "        coffee_image_url = name_image.select_one('dl > dt > a > img')\n",
    "        coffee_image = coffee_image_url.get('src')\n",
    "        coffee_url_total = name_image.select_one('dl > dt > a')\n",
    "        coffee_url = coffee_url_total.get('prod')\n",
    "        coffee_base_url = 'http://www.istarbucks.co.kr/menu/drink_view.do?product_cd='\n",
    "\n",
    "        # 커피 디테일 페이지 접근\n",
    "        driver.get(coffee_base_url + coffee_url)\n",
    "        driver.implicitly_wait(7)\n",
    "        html = driver.page_source\n",
    "        soup = BeautifulSoup(html, 'lxml')\n",
    "        pages_detail = soup.select('div.content02 > div.product_view_wrap1 > div.product_view_detail')\n",
    "        pages_detail2 = soup.select('form > fieldset > div.product_view_info > div.product_info_content')\n",
    "        for detail in pages_detail:\n",
    "            # 커피 detail name\n",
    "            detail_names = detail.select_one('div.myAssignZone > h4').get_text(strip=True)\n",
    "            # 커피 detail info\n",
    "            detail_infos = detail.select_one('div.myAssignZone > p').get_text(strip=True)\n",
    "            # 커피 detail 제품영양정보 단위\n",
    "            detail_sizes = detail.select_one(\n",
    "                'form > fieldset > div.product_view_info > div.product_info_head '\n",
    "                '> div.product_select_wrap2 > div.selectTxt2'\n",
    "            ).get_text(strip=True)\n",
    "        for detail2 in pages_detail2:\n",
    "            # 커피 detail kcal\n",
    "            detail_kcal = detail2.select_one('ul > li.kcal > dl > dd').get_text(strip=True)\n",
    "            # 커피 detail sat_FAT\n",
    "            detail_fats = detail2.select_one('ul > li.sat_FAT > dl > dd').get_text(strip=True)\n",
    "            # 커피 detail protein\n",
    "            detail_proteins = detail2.select_one('ul > li.protein > dl > dd').get_text(strip=True)\n",
    "            # 커피 detail sodium\n",
    "            detail_sodiums = detail2.select_one('ul:nth-of-type(2) > li.sodium > dl > dd').get_text(strip=True)\n",
    "            # 커피 detail sugar\n",
    "            detail_sugars = detail2.select_one('ul:nth-of-type(2) > li.sugars > dl > dd').get_text(strip=True)\n",
    "            # 커피 detail caffeine\n",
    "            detail_caffeines = detail2.select_one('ul:nth-of-type(2) > li.caffeine > dl > dd').get_text(\n",
    "                strip=True)\n",
    "        # DB 작업\n",
    "        category, is_category = CoffeeCategory.objects.get_or_create(\n",
    "            name=category_title\n",
    "        )\n",
    "        coffee, is_coffee = Coffee.objects.get_or_create(\n",
    "            coffeeshop_list='STARBUCKS',\n",
    "            category=category,\n",
    "            name=detail_names,\n",
    "            coffee_info=detail_infos,\n",
    "            coffee_size=detail_sizes,\n",
    "            calorie=detail_kcal,\n",
    "            saturated_fat=detail_fats,\n",
    "            protein=detail_proteins,\n",
    "            sodium=detail_sodiums,\n",
    "            sugars=detail_sugars,\n",
    "            caffeine=detail_caffeines,\n",
    "        )\n",
    "        STARBUCKS_DIR = os.path.join(MEDIA_ROOT, '.starbucks')\n",
    "        STARBUCKS_IMAGE_DIR = os.path.join(STARBUCKS_DIR, f'{coffee_name}.jpg')\n",
    "        if not os.path.exists(STARBUCKS_DIR):\n",
    "            os.makedirs(STARBUCKS_DIR, exist_ok=True)\n",
    "        try:\n",
    "            urllib.request.urlretrieve(coffee_image, STARBUCKS_IMAGE_DIR)\n",
    "            f = open(os.path.join(STARBUCKS_DIR, f'{coffee_name}.jpg'), 'rb')  \n",
    "            CoffeeImage.objects.get_or_create(\n",
    "                location=File(f),\n",
    "                coffee=coffee,\n",
    "            )\n",
    "            f.close()\n",
    "        except FileExistsError:\n",
    "            print('이미 존재하는 파일')\n",
    "        \n",
    "driver.close()\n"
   ]
  },
  {
   "cell_type": "code",
   "execution_count": null,
   "metadata": {},
   "outputs": [],
   "source": [
    "print(STARBUCKS_IMAGE_DIR)"
   ]
  },
  {
   "cell_type": "code",
   "execution_count": null,
   "metadata": {},
   "outputs": [],
   "source": [
    "print(f)"
   ]
  },
  {
   "cell_type": "code",
   "execution_count": null,
   "metadata": {},
   "outputs": [],
   "source": [
    "print(coffee)"
   ]
  },
  {
   "cell_type": "code",
   "execution_count": null,
   "metadata": {},
   "outputs": [],
   "source": [
    "type(coffee)"
   ]
  },
  {
   "cell_type": "code",
   "execution_count": null,
   "metadata": {},
   "outputs": [],
   "source": [
    "print(detail_names)"
   ]
  },
  {
   "cell_type": "code",
   "execution_count": null,
   "metadata": {},
   "outputs": [],
   "source": [
    "coffee_url"
   ]
  },
  {
   "cell_type": "code",
   "execution_count": null,
   "metadata": {},
   "outputs": [],
   "source": [
    "STARBUCKS_DIR"
   ]
  },
  {
   "cell_type": "code",
   "execution_count": null,
   "metadata": {},
   "outputs": [],
   "source": [
    "print(Coffee.objects.get(pk=1))"
   ]
  },
  {
   "cell_type": "code",
   "execution_count": null,
   "metadata": {},
   "outputs": [],
   "source": [
    "type(detail_names)"
   ]
  },
  {
   "cell_type": "code",
   "execution_count": null,
   "metadata": {},
   "outputs": [],
   "source": [
    "coffee_id"
   ]
  },
  {
   "cell_type": "code",
   "execution_count": null,
   "metadata": {},
   "outputs": [],
   "source": [
    "Coffee.objects.get(name=detail_names)"
   ]
  },
  {
   "cell_type": "code",
   "execution_count": null,
   "metadata": {},
   "outputs": [],
   "source": [
    "print(category)"
   ]
  },
  {
   "cell_type": "code",
   "execution_count": null,
   "metadata": {},
   "outputs": [],
   "source": [
    "type(category)"
   ]
  },
  {
   "cell_type": "code",
   "execution_count": null,
   "metadata": {},
   "outputs": [],
   "source": [
    "print(detail_sugars)"
   ]
  },
  {
   "cell_type": "code",
   "execution_count": null,
   "metadata": {},
   "outputs": [],
   "source": [
    "type(detail_sugars)"
   ]
  },
  {
   "cell_type": "code",
   "execution_count": null,
   "metadata": {},
   "outputs": [],
   "source": []
  }
 ],
 "metadata": {
  "kernelspec": {
   "display_name": "Django Shell-Plus",
   "language": "python",
   "name": "django_extensions"
  },
  "language_info": {
   "codemirror_mode": {
    "name": "ipython",
    "version": 3
   },
   "file_extension": ".py",
   "mimetype": "text/x-python",
   "name": "python",
   "nbconvert_exporter": "python",
   "pygments_lexer": "ipython3",
   "version": "3.6.7"
  }
 },
 "nbformat": 4,
 "nbformat_minor": 2
}
