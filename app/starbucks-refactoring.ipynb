{
 "cells": [
  {
   "cell_type": "code",
   "execution_count": null,
   "metadata": {},
   "outputs": [],
   "source": [
    "# parser 필요한 모듈 (selenium, bs4)\n",
    "from selenium import webdriver\n",
    "from bs4 import BeautifulSoup\n",
    "\n",
    "# url 이미지 다운\n",
    "import urllib.request\n",
    "\n",
    "driver = webdriver.Chrome('/Users/han-yonghee/Downloads/chromedriver')\n",
    "\n",
    "# 스타벅스 음료 페이지 [전체 상품보기]\n",
    "driver.get('http://www.istarbucks.co.kr/menu/drink_list.do')\n",
    "html = driver.page_source\n",
    "soup = BeautifulSoup(html, 'lxml')\n"
   ]
  },
  {
   "cell_type": "code",
   "execution_count": null,
   "metadata": {},
   "outputs": [],
   "source": [
    "# 음료 전체보기 list\n",
    "product_list = soup.select('dl.product_view_tab > dd > div.product_list > dl')\n",
    "print(product_list)\n",
    "\n"
   ]
  },
  {
   "cell_type": "code",
   "execution_count": null,
   "metadata": {},
   "outputs": [],
   "source": [
    "# product_list [카테고리 추출]\n",
    "product_category = soup.select('dl.product_view_tab > dd > div.product_list > dl > dt > a')\n",
    "print(product_category)\n",
    "    "
   ]
  },
  {
   "cell_type": "code",
   "execution_count": null,
   "metadata": {},
   "outputs": [],
   "source": [
    "# product_list [이미지 및 커피명 추출]\n",
    "product_title = soup.select('dl.product_view_tab > dd > div.product_list > dl > dd > ul > li')\n",
    "print(product_title)"
   ]
  },
  {
   "cell_type": "code",
   "execution_count": null,
   "metadata": {},
   "outputs": [],
   "source": [
    "for li in product_list:\n",
    "    print(li)"
   ]
  },
  {
   "cell_type": "code",
   "execution_count": null,
   "metadata": {},
   "outputs": [],
   "source": [
    "for li in product_list:\n",
    "    # 카테고리 타이틀\n",
    "    category_title_sub_list = li.select('dt > style')\n",
    "    print(category_title_sub_list)\n",
    "#     for title in category_title_sub_list:\n",
    "#         category_title_list = title.find_all('a')\n",
    "#         print(category_title_list)"
   ]
  },
  {
   "cell_type": "code",
   "execution_count": null,
   "metadata": {},
   "outputs": [],
   "source": [
    "dt_category = soup.select('dl.product_view_tab > dd > div.product_list > dl > dt > a')\n",
    "dd_content = soup.select('dl.product_view_tab > dd > div.product_list > dl > dd')\n",
    "print(len(dd_content))\n"
   ]
  },
  {
   "cell_type": "code",
   "execution_count": null,
   "metadata": {},
   "outputs": [],
   "source": [
    "coffees_details_list = []\n",
    "for a, b in zip(dt_category, dd_content):\n",
    "    # 카테고리 타이틀 \n",
    "    category_title = a.get_text(strip=True)\n",
    "#     print(category_title)\n",
    "#     print('====끝====')\n",
    "    # 커피 이름 & 이미지 URL & 커피 디테일 URL\n",
    "    coffee_name_image_list = b.select('ul > li.menuDataSet')\n",
    "    for name_image in coffee_name_image_list:\n",
    "        coffee_name = name_image.select_one('dl > dd').get_text()\n",
    "#         print(coffee_name)\n",
    "        coffee_image_url = name_image.select_one('dl > dt > a > img')\n",
    "        coffee_image = coffee_image_url.get('src')\n",
    "#         print(coffee_image)\n",
    "#         urllib.request.urlretrieve(coffee_image, f'{coffee_name}.jpg')\n",
    "        coffee_url_total = name_image.select_one('dl > dt > a')\n",
    "        coffee_url = coffee_url_total.get('prod')\n",
    "        coffee_base_url = 'http://www.istarbucks.co.kr/menu/drink_view.do?product_cd='\n",
    "        coffee_total_url = coffee_base_url + coffee_url\n",
    "        # 커피 Detail 페이지\n",
    "        driver.get(coffee_total_url)\n",
    "        driver.implicitly_wait(7)\n",
    "        pages_detail = soup.select('div.content02 > div.product_view_wrap1')\n",
    "        for detail in pages_detail:\n",
    "#             # 커피 detail name\n",
    "            detail_names = detail.select_one('div.product_view_detail > div.myAssignZone > h4').get_text(strip=True)\n",
    "            print(detail_names)\n",
    "#\n",
    "#     커피 detail 페이지\n",
    "#     for page in coffees_details_list:\n",
    "#         driver.get(page)\n",
    "#         driver.implicitly_wait(7)\n",
    "#         html = driver.page_source\n",
    "#         soup = BeautifulSoup(html, 'lxml')\n",
    "#         # 커피 detail 페이지 파싱 시작\n",
    "#         pages_detail = soup.select('div.content02 > div.product_view_wrap1')\n",
    "#         for detail in pages_detail:\n",
    "#             # 커피 detail name\n",
    "#             detail_names = detail.select_one('div.product_view_detail > div.myAssignZone > h4').get_text(strip=True)\n",
    "#             print(detail_names)\n",
    "\n",
    "        \n",
    "    \n",
    "        "
   ]
  },
  {
   "cell_type": "code",
   "execution_count": null,
   "metadata": {},
   "outputs": [],
   "source": []
  },
  {
   "cell_type": "code",
   "execution_count": null,
   "metadata": {},
   "outputs": [],
   "source": []
  }
 ],
 "metadata": {
  "kernelspec": {
   "display_name": "Django Shell-Plus",
   "language": "python",
   "name": "django_extensions"
  },
  "language_info": {
   "codemirror_mode": {
    "name": "ipython",
    "version": 3
   },
   "file_extension": ".py",
   "mimetype": "text/x-python",
   "name": "python",
   "nbconvert_exporter": "python",
   "pygments_lexer": "ipython3",
   "version": "3.6.7"
  }
 },
 "nbformat": 4,
 "nbformat_minor": 2
}
