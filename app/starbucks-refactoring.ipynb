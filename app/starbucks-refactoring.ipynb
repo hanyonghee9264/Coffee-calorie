{
 "cells": [
  {
   "cell_type": "code",
   "execution_count": 4,
   "metadata": {},
   "outputs": [],
   "source": [
    "# parser 필요한 모듈 (selenium, bs4)\n",
    "import os\n",
    "from selenium import webdriver\n",
    "from bs4 import BeautifulSoup\n",
    "\n",
    "from config.settings.base import MEDIA_ROOT\n",
    "# url 이미지 다운\n",
    "import urllib.request\n",
    "\n",
    "driver = webdriver.Chrome('/Users/han-yonghee/projects/coffeecalorie/.tool/chromedriver')\n",
    "\n",
    "# 스타벅스 음료 페이지 [전체 상품보기]\n",
    "driver.get('http://www.istarbucks.co.kr/menu/drink_list.do')\n",
    "html = driver.page_source\n",
    "soup = BeautifulSoup(html, 'lxml')\n"
   ]
  },
  {
   "cell_type": "code",
   "execution_count": 5,
   "metadata": {},
   "outputs": [
    {
     "name": "stdout",
     "output_type": "stream",
     "text": [
      "10\n"
     ]
    }
   ],
   "source": [
    "dt_category = soup.select('dl.product_view_tab > dd > div.product_list > dl > dt > a')\n",
    "dd_content = soup.select('dl.product_view_tab > dd > div.product_list > dl > dd')\n",
    "print(len(dd_content))\n"
   ]
  },
  {
   "cell_type": "code",
   "execution_count": 3,
   "metadata": {},
   "outputs": [],
   "source": [
    "# for a, b in zip(dt_category, dd_content):\n",
    "#     # 카테고리 타이틀 \n",
    "#     category_title = a.get_text(strip=True)\n",
    "# #     print(category_title)\n",
    "# #     print('====끝====')\n",
    "#     # 커피 이름 & 이미지 URL & 커피 디테일 URL\n",
    "#     coffee_name_image_list = b.select('ul > li.menuDataSet')\n",
    "#     for name_image in coffee_name_image_list:\n",
    "#         coffee_name = name_image.select_one('dl > dd').get_text()\n",
    "# #         print(coffee_name)\n",
    "#         coffee_image_url = name_image.select_one('dl > dt > a > img')\n",
    "#         coffee_image = coffee_image_url.get('src')\n",
    "# #         print(coffee_image)\n",
    "# #         urllib.request.urlretrieve(coffee_image, f'{coffee_name}.jpg')\n",
    "#         coffee_url_total = name_image.select_one('dl > dt > a')\n",
    "#         coffee_url = coffee_url_total.get('prod')\n",
    "#         coffee_base_url = 'http://www.istarbucks.co.kr/menu/drink_view.do?product_cd='\n",
    "\n",
    "#         # 커피 디테일 페이지 접근\n",
    "#         driver.get(coffee_base_url + coffee_url)\n",
    "#         driver.implicitly_wait(7)\n",
    "#         html = driver.page_source\n",
    "#         soup = BeautifulSoup(html, 'lxml')\n",
    "#         pages_detail = soup.select('div.content02 > div.product_view_wrap1 > div.product_view_detail')\n",
    "#         pages_detail2 = soup.select('form > fieldset > div.product_view_info > div.product_info_content')\n",
    "#         for detail in pages_detail:\n",
    "#             # 커피 detail name\n",
    "#             detail_names = detail.select_one('div.myAssignZone > h4').get_text(strip=True)\n",
    "#             print(detail_names)\n",
    "#             # 커피 detail info\n",
    "#             detail_infos = detail.select_one('div.myAssignZone > p').get_text(strip=True)\n",
    "#             print(detail_infos)\n",
    "#             # 커피 detail 제품영양정보 단위\n",
    "#             detail_sizes = detail.select_one('form > fieldset > div.product_view_info > div.product_info_head > div.product_select_wrap2 > div.selectTxt2').get_text(strip=True)\n",
    "#             print(detail_sizes)\n",
    "#         for detail2 in pages_detail2:\n",
    "#             # 커피 detail kcal\n",
    "#             detail_kcal = detail2.select_one('ul > li.kcal > dl > dd').get_text(strip=True)\n",
    "#             print(detail_kcal)\n",
    "#             # 커피 detail sat_FAT\n",
    "#             detail_fats = detail2.select_one('ul > li.sat_FAT > dl > dd').get_text(strip=True)\n",
    "#             print(detail_fats)\n",
    "#             # 커피 detail protein\n",
    "#             detail_proteins = detail2.select_one('ul > li.protein > dl > dd').get_text(strip=True)\n",
    "#             print(detail_proteins)\n",
    "#             # 커피 detail sodium\n",
    "#             detail_sodiums = detail2.select_one('ul:nth-of-type(2) > li.sodium > dl > dd').get_text(strip=True)\n",
    "#             print(detail_sodiums)\n",
    "#             # 커피 detail sugar\n",
    "#             detail_sugars = detail2.select_one('ul:nth-of-type(2) > li.sugars > dl > dd').get_text(strip=True)\n",
    "#             print(detail_sugars)\n",
    "#             # 커피 detail caffeine\n",
    "#             detail_caffeines = detail2.select_one('ul:nth-of-type(2) > li.caffeine > dl > dd').get_text(strip=True)\n",
    "#             print(detail_caffeines)\n",
    "#             print('==== 커피 끝 ====')\n",
    "\n",
    "#         # DB 작업\n",
    "#         CoffeeCategory.objects.get_or_create(\n",
    "#             name=category_title\n",
    "#         )\n",
    "#         Coffee.objects.get_or_create(\n",
    "#             coffeeshop_list='STARBUCKS',\n",
    "#             category=CoffeeCategory.objects.get(name=category_title),\n",
    "#             name=detail_names,\n",
    "#             coffee_info=detail_infos,\n",
    "#             coffee_size=detail_sizes,\n",
    "#             calorie=detail_kcal,\n",
    "#             saturated_fat=detail_fats,\n",
    "#             protein=detail_proteins,\n",
    "#             sodium=detail_sodiums,\n",
    "#             sugars=detail_sugars,\n",
    "#             caffeine=detail_caffeines,\n",
    "#         )"
   ]
  },
  {
   "cell_type": "markdown",
   "metadata": {},
   "source": [
    "## 팝업 에러 해결중 [완료]"
   ]
  },
  {
   "cell_type": "code",
   "execution_count": 4,
   "metadata": {},
   "outputs": [],
   "source": [
    "# for a, b in zip(dt_category, dd_content):\n",
    "#     # 카테고리 타이틀 \n",
    "#     category_title = a.get_text(strip=True)\n",
    "# #     print(category_title)\n",
    "# #     print('====끝====')\n",
    "#     # 커피 이름 & 이미지 URL & 커피 디테일 URL\n",
    "#     coffee_name_image_list = b.select('ul > li.menuDataSet')\n",
    "#     for name_image in coffee_name_image_list:\n",
    "#         coffee_name = name_image.select_one('dl > dd').get_text()\n",
    "#         if '아이스 제주 유자 그린 티' in coffee_name:\n",
    "#             continue\n",
    "#         elif '애프리콧 조이풀 티' in coffee_name:\n",
    "#             continue\n",
    "#         elif '제주 유자 그린 티' in coffee_name:\n",
    "#             continue\n",
    "#         elif '아이스 제주 한라봉 눈꽃 라떼' in coffee_name:\n",
    "#             continue\n",
    "#         elif '제주 한라봉 눈꽃 라떼' in coffee_name:\n",
    "#             continue\n",
    "#         else:\n",
    "#             pass\n",
    "#         STARBUCKS_DIR = os.path.join(MEDIA_ROOT, '.starbucks')\n",
    "#         STARBUCKS_IMAGE_DIR = os.path.join(STARBUCKS_DIR, f'{coffee_name}.jpg')\n",
    "#         if not os.path.exists(STARBUCKS_DIR):\n",
    "#             os.makedirs(STARBUCKS_DIR, exist_ok=True)\n",
    "# #         print(coffee_name)\n",
    "#         coffee_image_url = name_image.select_one('dl > dt > a > img')\n",
    "#         coffee_image = coffee_image_url.get('src')\n",
    "# #         print(coffee_image)\n",
    "#         urllib.request.urlretrieve(coffee_image, STARBUCKS_IMAGE_DIR)\n",
    "#         coffee_url_total = name_image.select_one('dl > dt > a')\n",
    "#         coffee_url = coffee_url_total.get('prod')\n",
    "#         coffee_base_url = 'http://www.istarbucks.co.kr/menu/drink_view.do?product_cd='\n",
    "\n",
    "#         # 커피 디테일 페이지 접근\n",
    "#         driver.get(coffee_base_url + coffee_url)\n",
    "#         driver.implicitly_wait(7)\n",
    "#         html = driver.page_source\n",
    "#         soup = BeautifulSoup(html, 'lxml')\n",
    "#         pages_detail = soup.select('div.content02 > div.product_view_wrap1 > div.product_view_detail')\n",
    "#         pages_detail2 = soup.select('form > fieldset > div.product_view_info > div.product_info_content')\n",
    "#         for detail in pages_detail:\n",
    "#             # 커피 detail name\n",
    "#             detail_names = detail.select_one('div.myAssignZone > h4').get_text(strip=True)\n",
    "#             print(detail_names)\n",
    "#             # 커피 detail info\n",
    "#             detail_infos = detail.select_one('div.myAssignZone > p').get_text(strip=True)\n",
    "#             print(detail_infos)\n",
    "#             # 커피 detail 제품영양정보 단위\n",
    "#             detail_sizes = detail.select_one('form > fieldset > div.product_view_info > div.product_info_head > div.product_select_wrap2 > div.selectTxt2').get_text(strip=True)\n",
    "#             print(detail_sizes)\n",
    "#         for detail2 in pages_detail2:\n",
    "#             # 커피 detail kcal\n",
    "#             detail_kcal = detail2.select_one('ul > li.kcal > dl > dd').get_text(strip=True)\n",
    "#             print(detail_kcal)\n",
    "#             # 커피 detail sat_FAT\n",
    "#             detail_fats = detail2.select_one('ul > li.sat_FAT > dl > dd').get_text(strip=True)\n",
    "#             print(detail_fats)\n",
    "#             # 커피 detail protein\n",
    "#             detail_proteins = detail2.select_one('ul > li.protein > dl > dd').get_text(strip=True)\n",
    "#             print(detail_proteins)\n",
    "#             # 커피 detail sodium\n",
    "#             detail_sodiums = detail2.select_one('ul:nth-of-type(2) > li.sodium > dl > dd').get_text(strip=True)\n",
    "#             print(detail_sodiums)\n",
    "#             # 커피 detail sugar\n",
    "#             detail_sugars = detail2.select_one('ul:nth-of-type(2) > li.sugars > dl > dd').get_text(strip=True)\n",
    "#             print(detail_sugars)\n",
    "#             # 커피 detail caffeine\n",
    "#             detail_caffeines = detail2.select_one('ul:nth-of-type(2) > li.caffeine > dl > dd').get_text(strip=True)\n",
    "#             print(detail_caffeines)\n",
    "#             print('==== 커피 끝 ====')\n",
    "\n",
    "#         # DB 작업\n",
    "#         CoffeeCategory.objects.get_or_create(\n",
    "#             name=category_title\n",
    "#         )\n",
    "#         Coffee.objects.get_or_create(\n",
    "#             coffeeshop_list='STARBUCKS',\n",
    "#             category=CoffeeCategory.objects.get(name=category_title),\n",
    "#             name=detail_names,\n",
    "#             coffee_info=detail_infos,\n",
    "#             coffee_size=detail_sizes,\n",
    "#             calorie=detail_kcal,\n",
    "#             saturated_fat=detail_fats,\n",
    "#             protein=detail_proteins,\n",
    "#             sodium=detail_sodiums,\n",
    "#             sugars=detail_sugars,\n",
    "#             caffeine=detail_caffeines,\n",
    "#         )\n",
    "#         CoffeeImage.objects.get_or_create(\n",
    "#             location=coffee_image,\n",
    "#             coffee=Coffee.objects.get(name=detail_names),\n",
    "#         )\n",
    "# driver.close()\n"
   ]
  },
  {
   "cell_type": "code",
   "execution_count": 10,
   "metadata": {},
   "outputs": [
    {
     "name": "stdout",
     "output_type": "stream",
     "text": [
      "콜드 브루 커피\n"
     ]
    },
    {
     "ename": "NoSuchWindowException",
     "evalue": "Message: no such window: target window already closed\nfrom unknown error: web view not found\n  (Session info: chrome=74.0.3729.157)\n  (Driver info: chromedriver=74.0.3729.6 (255758eccf3d244491b8a1317aa76e1ce10d57e9-refs/branch-heads/3729@{#29}),platform=Mac OS X 10.13.6 x86_64)\n",
     "traceback": [
      "\u001b[0;31m---------------------------------------------------------------------------\u001b[0m",
      "\u001b[0;31mNoSuchWindowException\u001b[0m                     Traceback (most recent call last)",
      "\u001b[0;32m<ipython-input-10-bcdffaf8f3e7>\u001b[0m in \u001b[0;36m<module>\u001b[0;34m\u001b[0m\n\u001b[1;32m     41\u001b[0m \u001b[0;34m\u001b[0m\u001b[0m\n\u001b[1;32m     42\u001b[0m         \u001b[0;31m# 커피 디테일 페이지 접근\u001b[0m\u001b[0;34m\u001b[0m\u001b[0;34m\u001b[0m\u001b[0;34m\u001b[0m\u001b[0m\n\u001b[0;32m---> 43\u001b[0;31m         \u001b[0mdriver\u001b[0m\u001b[0;34m.\u001b[0m\u001b[0mget\u001b[0m\u001b[0;34m(\u001b[0m\u001b[0mcoffee_base_url\u001b[0m \u001b[0;34m+\u001b[0m \u001b[0mcoffee_url\u001b[0m\u001b[0;34m)\u001b[0m\u001b[0;34m\u001b[0m\u001b[0;34m\u001b[0m\u001b[0m\n\u001b[0m\u001b[1;32m     44\u001b[0m         \u001b[0mdriver\u001b[0m\u001b[0;34m.\u001b[0m\u001b[0mimplicitly_wait\u001b[0m\u001b[0;34m(\u001b[0m\u001b[0;36m7\u001b[0m\u001b[0;34m)\u001b[0m\u001b[0;34m\u001b[0m\u001b[0;34m\u001b[0m\u001b[0m\n\u001b[1;32m     45\u001b[0m         \u001b[0mhtml\u001b[0m \u001b[0;34m=\u001b[0m \u001b[0mdriver\u001b[0m\u001b[0;34m.\u001b[0m\u001b[0mpage_source\u001b[0m\u001b[0;34m\u001b[0m\u001b[0;34m\u001b[0m\u001b[0m\n",
      "\u001b[0;32m/usr/local/var/pyenv/versions/coffee-calorie/lib/python3.6/site-packages/selenium/webdriver/remote/webdriver.py\u001b[0m in \u001b[0;36mget\u001b[0;34m(self, url)\u001b[0m\n\u001b[1;32m    331\u001b[0m         \u001b[0mLoads\u001b[0m \u001b[0ma\u001b[0m \u001b[0mweb\u001b[0m \u001b[0mpage\u001b[0m \u001b[0;32min\u001b[0m \u001b[0mthe\u001b[0m \u001b[0mcurrent\u001b[0m \u001b[0mbrowser\u001b[0m \u001b[0msession\u001b[0m\u001b[0;34m.\u001b[0m\u001b[0;34m\u001b[0m\u001b[0;34m\u001b[0m\u001b[0m\n\u001b[1;32m    332\u001b[0m         \"\"\"\n\u001b[0;32m--> 333\u001b[0;31m         \u001b[0mself\u001b[0m\u001b[0;34m.\u001b[0m\u001b[0mexecute\u001b[0m\u001b[0;34m(\u001b[0m\u001b[0mCommand\u001b[0m\u001b[0;34m.\u001b[0m\u001b[0mGET\u001b[0m\u001b[0;34m,\u001b[0m \u001b[0;34m{\u001b[0m\u001b[0;34m'url'\u001b[0m\u001b[0;34m:\u001b[0m \u001b[0murl\u001b[0m\u001b[0;34m}\u001b[0m\u001b[0;34m)\u001b[0m\u001b[0;34m\u001b[0m\u001b[0;34m\u001b[0m\u001b[0m\n\u001b[0m\u001b[1;32m    334\u001b[0m \u001b[0;34m\u001b[0m\u001b[0m\n\u001b[1;32m    335\u001b[0m     \u001b[0;34m@\u001b[0m\u001b[0mproperty\u001b[0m\u001b[0;34m\u001b[0m\u001b[0;34m\u001b[0m\u001b[0m\n",
      "\u001b[0;32m/usr/local/var/pyenv/versions/coffee-calorie/lib/python3.6/site-packages/selenium/webdriver/remote/webdriver.py\u001b[0m in \u001b[0;36mexecute\u001b[0;34m(self, driver_command, params)\u001b[0m\n\u001b[1;32m    319\u001b[0m         \u001b[0mresponse\u001b[0m \u001b[0;34m=\u001b[0m \u001b[0mself\u001b[0m\u001b[0;34m.\u001b[0m\u001b[0mcommand_executor\u001b[0m\u001b[0;34m.\u001b[0m\u001b[0mexecute\u001b[0m\u001b[0;34m(\u001b[0m\u001b[0mdriver_command\u001b[0m\u001b[0;34m,\u001b[0m \u001b[0mparams\u001b[0m\u001b[0;34m)\u001b[0m\u001b[0;34m\u001b[0m\u001b[0;34m\u001b[0m\u001b[0m\n\u001b[1;32m    320\u001b[0m         \u001b[0;32mif\u001b[0m \u001b[0mresponse\u001b[0m\u001b[0;34m:\u001b[0m\u001b[0;34m\u001b[0m\u001b[0;34m\u001b[0m\u001b[0m\n\u001b[0;32m--> 321\u001b[0;31m             \u001b[0mself\u001b[0m\u001b[0;34m.\u001b[0m\u001b[0merror_handler\u001b[0m\u001b[0;34m.\u001b[0m\u001b[0mcheck_response\u001b[0m\u001b[0;34m(\u001b[0m\u001b[0mresponse\u001b[0m\u001b[0;34m)\u001b[0m\u001b[0;34m\u001b[0m\u001b[0;34m\u001b[0m\u001b[0m\n\u001b[0m\u001b[1;32m    322\u001b[0m             response['value'] = self._unwrap_value(\n\u001b[1;32m    323\u001b[0m                 response.get('value', None))\n",
      "\u001b[0;32m/usr/local/var/pyenv/versions/coffee-calorie/lib/python3.6/site-packages/selenium/webdriver/remote/errorhandler.py\u001b[0m in \u001b[0;36mcheck_response\u001b[0;34m(self, response)\u001b[0m\n\u001b[1;32m    240\u001b[0m                 \u001b[0malert_text\u001b[0m \u001b[0;34m=\u001b[0m \u001b[0mvalue\u001b[0m\u001b[0;34m[\u001b[0m\u001b[0;34m'alert'\u001b[0m\u001b[0;34m]\u001b[0m\u001b[0;34m.\u001b[0m\u001b[0mget\u001b[0m\u001b[0;34m(\u001b[0m\u001b[0;34m'text'\u001b[0m\u001b[0;34m)\u001b[0m\u001b[0;34m\u001b[0m\u001b[0;34m\u001b[0m\u001b[0m\n\u001b[1;32m    241\u001b[0m             \u001b[0;32mraise\u001b[0m \u001b[0mexception_class\u001b[0m\u001b[0;34m(\u001b[0m\u001b[0mmessage\u001b[0m\u001b[0;34m,\u001b[0m \u001b[0mscreen\u001b[0m\u001b[0;34m,\u001b[0m \u001b[0mstacktrace\u001b[0m\u001b[0;34m,\u001b[0m \u001b[0malert_text\u001b[0m\u001b[0;34m)\u001b[0m\u001b[0;34m\u001b[0m\u001b[0;34m\u001b[0m\u001b[0m\n\u001b[0;32m--> 242\u001b[0;31m         \u001b[0;32mraise\u001b[0m \u001b[0mexception_class\u001b[0m\u001b[0;34m(\u001b[0m\u001b[0mmessage\u001b[0m\u001b[0;34m,\u001b[0m \u001b[0mscreen\u001b[0m\u001b[0;34m,\u001b[0m \u001b[0mstacktrace\u001b[0m\u001b[0;34m)\u001b[0m\u001b[0;34m\u001b[0m\u001b[0;34m\u001b[0m\u001b[0m\n\u001b[0m\u001b[1;32m    243\u001b[0m \u001b[0;34m\u001b[0m\u001b[0m\n\u001b[1;32m    244\u001b[0m     \u001b[0;32mdef\u001b[0m \u001b[0m_value_or_default\u001b[0m\u001b[0;34m(\u001b[0m\u001b[0mself\u001b[0m\u001b[0;34m,\u001b[0m \u001b[0mobj\u001b[0m\u001b[0;34m,\u001b[0m \u001b[0mkey\u001b[0m\u001b[0;34m,\u001b[0m \u001b[0mdefault\u001b[0m\u001b[0;34m)\u001b[0m\u001b[0;34m:\u001b[0m\u001b[0;34m\u001b[0m\u001b[0;34m\u001b[0m\u001b[0m\n",
      "\u001b[0;31mNoSuchWindowException\u001b[0m: Message: no such window: target window already closed\nfrom unknown error: web view not found\n  (Session info: chrome=74.0.3729.157)\n  (Driver info: chromedriver=74.0.3729.6 (255758eccf3d244491b8a1317aa76e1ce10d57e9-refs/branch-heads/3729@{#29}),platform=Mac OS X 10.13.6 x86_64)\n"
     ],
     "output_type": "error"
    }
   ],
   "source": [
    "import os\n",
    "\n",
    "import boto3\n",
    "\n",
    "from config.settings import dev\n",
    "from coffeeshop import models\n",
    "from config.settings.base import MEDIA_ROOT\n",
    "from django.core.files import File\n",
    "from django.shortcuts import get_object_or_404\n",
    "\n",
    "from selenium import webdriver\n",
    "from selenium.webdriver.chrome.options import Options\n",
    "from bs4 import BeautifulSoup\n",
    "import urllib.request\n",
    "\n",
    "for a, b in zip(dt_category, dd_content):\n",
    "    # 카테고리 타이틀\n",
    "    category_title = a.get_text(strip=True)\n",
    "    # 커피 이름 & 이미지 URL & 커피 디테일 URL\n",
    "    coffee_name_image_list = b.select('ul > li.menuDataSet')\n",
    "    for name_image in coffee_name_image_list:\n",
    "        coffee_name = name_image.select_one('dl > dd').get_text()\n",
    "        if '아이스 제주 유자 그린 티' in coffee_name:\n",
    "            continue\n",
    "        elif '애프리콧 조이풀 티' in coffee_name:\n",
    "            continue\n",
    "        elif '제주 유자 그린 티' in coffee_name:\n",
    "            continue\n",
    "        elif '아이스 제주 한라봉 눈꽃 라떼' in coffee_name:\n",
    "            continue\n",
    "        elif '제주 한라봉 눈꽃 라떼' in coffee_name:\n",
    "            continue\n",
    "        else:\n",
    "            pass\n",
    "        coffee_image_url = name_image.select_one('dl > dt > a > img')\n",
    "        coffee_image = coffee_image_url.get('src')\n",
    "        coffee_url_total = name_image.select_one('dl > dt > a')\n",
    "        coffee_url = coffee_url_total.get('prod')\n",
    "        coffee_base_url = 'http://www.istarbucks.co.kr/menu/drink_view.do?product_cd='\n",
    "\n",
    "        # 커피 디테일 페이지 접근\n",
    "        driver.get(coffee_base_url + coffee_url)\n",
    "        driver.implicitly_wait(7)\n",
    "        html = driver.page_source\n",
    "        soup = BeautifulSoup(html, 'lxml')\n",
    "        pages_detail = soup.select('div.content02 > div.product_view_wrap1 > div.product_view_detail')\n",
    "        pages_detail2 = soup.select('form > fieldset > div.product_view_info > div.product_info_content')\n",
    "        for detail in pages_detail:\n",
    "            # 커피 detail name\n",
    "            detail_names = detail.select_one('div.myAssignZone > h4').get_text(strip=True)\n",
    "            # 커피 detail info\n",
    "            detail_infos = detail.select_one('div.myAssignZone > p').get_text(strip=True)\n",
    "            # 커피 detail 제품영양정보 단위\n",
    "            detail_sizes = detail.select_one(\n",
    "                'form > fieldset > div.product_view_info > div.product_info_head '\n",
    "                '> div.product_select_wrap2 > div.selectTxt2'\n",
    "            ).get_text(strip=True)\n",
    "        for detail2 in pages_detail2:\n",
    "            # 커피 detail kcal\n",
    "            detail_kcal = detail2.select_one('ul > li.kcal > dl > dd').get_text(strip=True)\n",
    "            # 커피 detail sat_FAT\n",
    "            detail_fats = detail2.select_one('ul > li.sat_FAT > dl > dd').get_text(strip=True)\n",
    "            # 커피 detail protein\n",
    "            detail_proteins = detail2.select_one('ul > li.protein > dl > dd').get_text(strip=True)\n",
    "            # 커피 detail sodium\n",
    "            detail_sodiums = detail2.select_one('ul:nth-of-type(2) > li.sodium > dl > dd').get_text(strip=True)\n",
    "            # 커피 detail sugar\n",
    "            detail_sugars = detail2.select_one('ul:nth-of-type(2) > li.sugars > dl > dd').get_text(strip=True)\n",
    "            # 커피 detail caffeine\n",
    "            detail_caffeines = detail2.select_one('ul:nth-of-type(2) > li.caffeine > dl > dd').get_text(\n",
    "                strip=True)\n",
    "        # DB 작업\n",
    "        category, is_category = CoffeeCategory.objects.get_or_create(\n",
    "            name=category_title\n",
    "        )\n",
    "        coffee, is_coffee = Coffee.objects.get_or_create(\n",
    "            coffeeshop_list='STARBUCKS',\n",
    "            category=category,\n",
    "            name=detail_names,\n",
    "            coffee_info=detail_infos,\n",
    "            coffee_size=detail_sizes,\n",
    "            calorie=detail_kcal,\n",
    "            saturated_fat=detail_fats,\n",
    "            protein=detail_proteins,\n",
    "            sodium=detail_sodiums,\n",
    "            sugars=detail_sugars,\n",
    "            caffeine=detail_caffeines,\n",
    "        )\n",
    "        STARBUCKS_DIR = os.path.join(MEDIA_ROOT, '.starbucks')\n",
    "        STARBUCKS_IMAGE_DIR = os.path.join(STARBUCKS_DIR, f'{coffee_name}.jpg')\n",
    "        if not os.path.exists(STARBUCKS_DIR):\n",
    "            os.makedirs(STARBUCKS_DIR, exist_ok=True)\n",
    "        try:\n",
    "            urllib.request.urlretrieve(coffee_image, STARBUCKS_IMAGE_DIR)\n",
    "            f = open(os.path.join(STARBUCKS_DIR, f'{coffee_name}.jpg'), 'rb')  \n",
    "            CoffeeImage.objects.get_or_create(\n",
    "                location=File(f),\n",
    "                coffee=coffee,\n",
    "            )\n",
    "            f.close()\n",
    "        except FileExistsError:\n",
    "            print('이미 존재하는 파일')\n",
    "        \n",
    "driver.close()\n"
   ]
  },
  {
   "cell_type": "code",
   "execution_count": null,
   "metadata": {},
   "outputs": [],
   "source": [
    "print(STARBUCKS_IMAGE_DIR)"
   ]
  },
  {
   "cell_type": "code",
   "execution_count": null,
   "metadata": {},
   "outputs": [],
   "source": [
    "print(f)"
   ]
  },
  {
   "cell_type": "code",
   "execution_count": null,
   "metadata": {},
   "outputs": [],
   "source": [
    "print(coffee)"
   ]
  },
  {
   "cell_type": "code",
   "execution_count": null,
   "metadata": {},
   "outputs": [],
   "source": [
    "type(coffee)"
   ]
  },
  {
   "cell_type": "code",
   "execution_count": null,
   "metadata": {},
   "outputs": [],
   "source": [
    "print(detail_names)"
   ]
  },
  {
   "cell_type": "code",
   "execution_count": null,
   "metadata": {},
   "outputs": [],
   "source": [
    "coffee_url"
   ]
  },
  {
   "cell_type": "code",
   "execution_count": null,
   "metadata": {},
   "outputs": [],
   "source": [
    "STARBUCKS_DIR"
   ]
  },
  {
   "cell_type": "code",
   "execution_count": null,
   "metadata": {},
   "outputs": [],
   "source": [
    "print(Coffee.objects.get(pk=1))"
   ]
  },
  {
   "cell_type": "code",
   "execution_count": null,
   "metadata": {},
   "outputs": [],
   "source": [
    "type(detail_names)"
   ]
  },
  {
   "cell_type": "code",
   "execution_count": null,
   "metadata": {},
   "outputs": [],
   "source": [
    "coffee_id"
   ]
  },
  {
   "cell_type": "code",
   "execution_count": null,
   "metadata": {},
   "outputs": [],
   "source": [
    "Coffee.objects.get(name=detail_names)"
   ]
  },
  {
   "cell_type": "code",
   "execution_count": null,
   "metadata": {},
   "outputs": [],
   "source": [
    "print(category)"
   ]
  },
  {
   "cell_type": "code",
   "execution_count": null,
   "metadata": {},
   "outputs": [],
   "source": [
    "type(category)"
   ]
  },
  {
   "cell_type": "code",
   "execution_count": null,
   "metadata": {},
   "outputs": [],
   "source": [
    "print(detail_sugars)"
   ]
  },
  {
   "cell_type": "code",
   "execution_count": null,
   "metadata": {},
   "outputs": [],
   "source": [
    "type(detail_sugars)"
   ]
  },
  {
   "cell_type": "code",
   "execution_count": 8,
   "metadata": {},
   "outputs": [
    {
     "name": "stdout",
     "output_type": "stream",
     "text": [
      "[<li class=\"menuDataSet\" new=\"Y\" recomm=\"0\" sell=\"\" sold=\"N\"> <dl> <dt> <a class=\"goDrinkView\" href=\"javascript:void(0)\" prod=\"9200000002081\"><img alt=\"돌체 콜드 브루\" src=\"http://image.istarbucks.co.kr/upload/store/skuimg/2019/04/[9200000002081]_20190409153909754.jpg\"/></a> <ul> <li><img alt=\"NEW\" src=\"//image.istarbucks.co.kr/common/img/menu/mark01.png\"/></li> </ul> </dt> <dd>돌체 콜드 브루</dd> </dl> </li>, <li class=\"menuDataSet\" new=\"N\" recomm=\"0\" sell=\"\" sold=\"N\"> <dl> <dt> <a class=\"goDrinkView\" href=\"javascript:void(0)\" prod=\"9200000001272\"><img alt=\"나이트로 쇼콜라\" src=\"http://image.istarbucks.co.kr/upload/store/skuimg/2018/04/[9200000001272]_20180409150901440.jpg\"/></a> </dt> <dd>나이트로 쇼콜라</dd> </dl> </li>, <li class=\"menuDataSet\" new=\"N\" recomm=\"0\" sell=\"\" sold=\"N\"> <dl> <dt> <a class=\"goDrinkView\" href=\"javascript:void(0)\" prod=\"9200000001275\"><img alt=\"나이트로 쇼콜라 클라우드\" src=\"http://image.istarbucks.co.kr/upload/store/skuimg/2018/04/[9200000001275]_20180409150826087.jpg\"/></a> </dt> <dd>나이트로 쇼콜라 클라우드</dd> </dl> </li>, <li class=\"menuDataSet\" new=\"N\" recomm=\"0\" sell=\"\" sold=\"N\"> <dl> <dt> <a class=\"goDrinkView\" href=\"javascript:void(0)\" prod=\"9200000000479\"><img alt=\"나이트로 콜드 브루\" src=\"http://image.istarbucks.co.kr/upload/store/skuimg/2017/03/[9200000000479]_20170328134443491.jpg\"/></a> </dt> <dd>나이트로 콜드 브루</dd> </dl> </li>, <li class=\"menuDataSet\" new=\"N\" recomm=\"0\" sell=\"\" sold=\"N\"> <dl> <dt> <a class=\"goDrinkView\" href=\"javascript:void(0)\" prod=\"9200000000487\"><img alt=\"바닐라 크림 콜드 브루\" src=\"http://image.istarbucks.co.kr/upload/store/skuimg/2017/04/[9200000000487]_20170405152830656.jpg\"/></a> </dt> <dd>바닐라 크림 콜드 브루</dd> </dl> </li>, <li class=\"menuDataSet\" new=\"N\" recomm=\"0\" sell=\"\" sold=\"N\"> <dl> <dt> <a class=\"goDrinkView\" href=\"javascript:void(0)\" prod=\"9200000000038\"><img alt=\"콜드 브루\" src=\"http://image.istarbucks.co.kr/upload/store/skuimg/2016/04/[9200000000038]_20160408135802583.jpg\"/></a> </dt> <dd>콜드 브루</dd> </dl> </li>, <li class=\"menuDataSet\" new=\"N\" recomm=\"0\" sell=\"\" sold=\"N\"> <dl> <dt> <a class=\"goDrinkView\" href=\"javascript:void(0)\" prod=\"9200000001636\"><img alt=\"콜드 브루 몰트\" src=\"http://image.istarbucks.co.kr/upload/store/skuimg/2018/07/[9200000001636]_20180726125512959.jpg\"/></a> </dt> <dd>콜드 브루 몰트</dd> </dl> </li>, <li class=\"menuDataSet\" new=\"N\" recomm=\"0\" sell=\"\" sold=\"N\"> <dl> <dt> <a class=\"goDrinkView\" href=\"javascript:void(0)\" prod=\"9200000001635\"><img alt=\"콜드 브루 플로트\" src=\"http://image.istarbucks.co.kr/upload/store/skuimg/2018/07/[9200000001635]_20180726125607716.jpg\"/></a> </dt> <dd>콜드 브루 플로트</dd> </dl> </li>, <li class=\"menuDataSet\" new=\"N\" recomm=\"0\" sell=\"\" sold=\"N\"> <dl> <dt> <a class=\"goDrinkView\" href=\"javascript:void(0)\" prod=\"9200000000949\"><img alt=\"콜드 폼 콜드 브루\" src=\"http://image.istarbucks.co.kr/upload/store/skuimg/2018/04/[9200000000949]_20180410163003570.jpg\"/></a> </dt> <dd>콜드 폼 콜드 브루</dd> </dl> </li>]\n"
     ]
    }
   ],
   "source": [
    "print(coffee_name_image_list)"
   ]
  },
  {
   "cell_type": "code",
   "execution_count": null,
   "metadata": {},
   "outputs": [],
   "source": []
  }
 ],
 "metadata": {
  "kernelspec": {
   "display_name": "Django Shell-Plus",
   "language": "python",
   "name": "django_extensions"
  },
  "language_info": {
   "codemirror_mode": {
    "name": "ipython",
    "version": 3
   },
   "file_extension": ".py",
   "mimetype": "text/x-python",
   "name": "python",
   "nbconvert_exporter": "python",
   "pygments_lexer": "ipython3",
   "version": "3.6.7"
  }
 },
 "nbformat": 4,
 "nbformat_minor": 2
}
